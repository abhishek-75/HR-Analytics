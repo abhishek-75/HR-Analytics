{
 "cells": [
  {
   "cell_type": "code",
   "execution_count": 1,
   "id": "0cbd9fb9",
   "metadata": {},
   "outputs": [],
   "source": [
    "import pandas as pd\n",
    "import os\n",
    "import numpy as np\n",
    "import matplotlib.pyplot as plt\n",
    "import seaborn as sns\n",
    "import warnings"
   ]
  },
  {
   "cell_type": "code",
   "execution_count": 2,
   "id": "693119e9",
   "metadata": {},
   "outputs": [],
   "source": [
    "os.chdir(\"C:/Users/Abhie/Desktop/Data Science (BI)/Pandas Python/Logistic Regression\")"
   ]
  },
  {
   "cell_type": "code",
   "execution_count": 3,
   "id": "ec5ccb1d",
   "metadata": {},
   "outputs": [],
   "source": [
    "warnings.filterwarnings(\"ignore\")\n",
    "%matplotlib inline"
   ]
  },
  {
   "cell_type": "markdown",
   "id": "b15c4ea4",
   "metadata": {},
   "source": [
    "# Test and Train allocation"
   ]
  },
  {
   "cell_type": "code",
   "execution_count": 4,
   "id": "ee3bea2f",
   "metadata": {},
   "outputs": [],
   "source": [
    "hr_test= pd.read_csv(\"test_HR Analytics.csv\")\n",
    "hr_train= pd.read_csv(\"train_HR Analytics.csv\")"
   ]
  },
  {
   "cell_type": "code",
   "execution_count": 5,
   "id": "dbbf5e99",
   "metadata": {},
   "outputs": [],
   "source": [
    "hra= hr_test.append(hr_train)"
   ]
  },
  {
   "cell_type": "code",
   "execution_count": 6,
   "id": "c263d76e",
   "metadata": {},
   "outputs": [
    {
     "data": {
      "text/plain": [
       "(78298, 14)"
      ]
     },
     "execution_count": 6,
     "metadata": {},
     "output_type": "execute_result"
    }
   ],
   "source": [
    "hra.shape"
   ]
  },
  {
   "cell_type": "code",
   "execution_count": 7,
   "id": "24797f1a",
   "metadata": {},
   "outputs": [
    {
     "name": "stdout",
     "output_type": "stream",
     "text": [
      "<class 'pandas.core.frame.DataFrame'>\n",
      "Int64Index: 78298 entries, 0 to 54807\n",
      "Data columns (total 14 columns):\n",
      " #   Column                Non-Null Count  Dtype  \n",
      "---  ------                --------------  -----  \n",
      " 0   employee_id           78298 non-null  int64  \n",
      " 1   department            78298 non-null  object \n",
      " 2   region                78298 non-null  object \n",
      " 3   education             74855 non-null  object \n",
      " 4   gender                78298 non-null  object \n",
      " 5   recruitment_channel   78298 non-null  object \n",
      " 6   no_of_trainings       78298 non-null  int64  \n",
      " 7   age                   78298 non-null  int64  \n",
      " 8   previous_year_rating  72362 non-null  float64\n",
      " 9   length_of_service     78298 non-null  int64  \n",
      " 10  KPIs_met >80%         78298 non-null  int64  \n",
      " 11  awards_won?           78298 non-null  int64  \n",
      " 12  avg_training_score    78298 non-null  int64  \n",
      " 13  is_promoted           54808 non-null  float64\n",
      "dtypes: float64(2), int64(7), object(5)\n",
      "memory usage: 9.0+ MB\n"
     ]
    }
   ],
   "source": [
    "hra.info()"
   ]
  },
  {
   "cell_type": "code",
   "execution_count": 8,
   "id": "448466d1",
   "metadata": {},
   "outputs": [
    {
     "data": {
      "text/html": [
       "<div>\n",
       "<style scoped>\n",
       "    .dataframe tbody tr th:only-of-type {\n",
       "        vertical-align: middle;\n",
       "    }\n",
       "\n",
       "    .dataframe tbody tr th {\n",
       "        vertical-align: top;\n",
       "    }\n",
       "\n",
       "    .dataframe thead th {\n",
       "        text-align: right;\n",
       "    }\n",
       "</style>\n",
       "<table border=\"1\" class=\"dataframe\">\n",
       "  <thead>\n",
       "    <tr style=\"text-align: right;\">\n",
       "      <th></th>\n",
       "      <th>employee_id</th>\n",
       "      <th>department</th>\n",
       "      <th>region</th>\n",
       "      <th>education</th>\n",
       "      <th>gender</th>\n",
       "      <th>recruitment_channel</th>\n",
       "      <th>no_of_trainings</th>\n",
       "      <th>age</th>\n",
       "      <th>previous_year_rating</th>\n",
       "      <th>length_of_service</th>\n",
       "      <th>KPIs_met &gt;80%</th>\n",
       "      <th>awards_won?</th>\n",
       "      <th>avg_training_score</th>\n",
       "      <th>is_promoted</th>\n",
       "    </tr>\n",
       "  </thead>\n",
       "  <tbody>\n",
       "    <tr>\n",
       "      <th>count</th>\n",
       "      <td>78298.000000</td>\n",
       "      <td>78298</td>\n",
       "      <td>78298</td>\n",
       "      <td>74855</td>\n",
       "      <td>78298</td>\n",
       "      <td>78298</td>\n",
       "      <td>78298.000000</td>\n",
       "      <td>78298.000000</td>\n",
       "      <td>72362.000000</td>\n",
       "      <td>78298.000000</td>\n",
       "      <td>78298.000000</td>\n",
       "      <td>78298.000000</td>\n",
       "      <td>78298.000000</td>\n",
       "      <td>54808.000000</td>\n",
       "    </tr>\n",
       "    <tr>\n",
       "      <th>unique</th>\n",
       "      <td>NaN</td>\n",
       "      <td>9</td>\n",
       "      <td>34</td>\n",
       "      <td>3</td>\n",
       "      <td>2</td>\n",
       "      <td>3</td>\n",
       "      <td>NaN</td>\n",
       "      <td>NaN</td>\n",
       "      <td>NaN</td>\n",
       "      <td>NaN</td>\n",
       "      <td>NaN</td>\n",
       "      <td>NaN</td>\n",
       "      <td>NaN</td>\n",
       "      <td>NaN</td>\n",
       "    </tr>\n",
       "    <tr>\n",
       "      <th>top</th>\n",
       "      <td>NaN</td>\n",
       "      <td>Sales &amp; Marketing</td>\n",
       "      <td>region_2</td>\n",
       "      <td>Bachelor's</td>\n",
       "      <td>m</td>\n",
       "      <td>other</td>\n",
       "      <td>NaN</td>\n",
       "      <td>NaN</td>\n",
       "      <td>NaN</td>\n",
       "      <td>NaN</td>\n",
       "      <td>NaN</td>\n",
       "      <td>NaN</td>\n",
       "      <td>NaN</td>\n",
       "      <td>NaN</td>\n",
       "    </tr>\n",
       "    <tr>\n",
       "      <th>freq</th>\n",
       "      <td>NaN</td>\n",
       "      <td>24155</td>\n",
       "      <td>17642</td>\n",
       "      <td>52247</td>\n",
       "      <td>55092</td>\n",
       "      <td>43524</td>\n",
       "      <td>NaN</td>\n",
       "      <td>NaN</td>\n",
       "      <td>NaN</td>\n",
       "      <td>NaN</td>\n",
       "      <td>NaN</td>\n",
       "      <td>NaN</td>\n",
       "      <td>NaN</td>\n",
       "      <td>NaN</td>\n",
       "    </tr>\n",
       "    <tr>\n",
       "      <th>mean</th>\n",
       "      <td>39149.500000</td>\n",
       "      <td>NaN</td>\n",
       "      <td>NaN</td>\n",
       "      <td>NaN</td>\n",
       "      <td>NaN</td>\n",
       "      <td>NaN</td>\n",
       "      <td>1.253378</td>\n",
       "      <td>34.797619</td>\n",
       "      <td>3.332219</td>\n",
       "      <td>5.848974</td>\n",
       "      <td>0.354032</td>\n",
       "      <td>0.023053</td>\n",
       "      <td>63.349664</td>\n",
       "      <td>0.085170</td>\n",
       "    </tr>\n",
       "    <tr>\n",
       "      <th>std</th>\n",
       "      <td>22602.830026</td>\n",
       "      <td>NaN</td>\n",
       "      <td>NaN</td>\n",
       "      <td>NaN</td>\n",
       "      <td>NaN</td>\n",
       "      <td>NaN</td>\n",
       "      <td>0.606766</td>\n",
       "      <td>7.665928</td>\n",
       "      <td>1.260982</td>\n",
       "      <td>4.248070</td>\n",
       "      <td>0.478222</td>\n",
       "      <td>0.150073</td>\n",
       "      <td>13.383664</td>\n",
       "      <td>0.279137</td>\n",
       "    </tr>\n",
       "    <tr>\n",
       "      <th>min</th>\n",
       "      <td>1.000000</td>\n",
       "      <td>NaN</td>\n",
       "      <td>NaN</td>\n",
       "      <td>NaN</td>\n",
       "      <td>NaN</td>\n",
       "      <td>NaN</td>\n",
       "      <td>1.000000</td>\n",
       "      <td>20.000000</td>\n",
       "      <td>1.000000</td>\n",
       "      <td>1.000000</td>\n",
       "      <td>0.000000</td>\n",
       "      <td>0.000000</td>\n",
       "      <td>39.000000</td>\n",
       "      <td>0.000000</td>\n",
       "    </tr>\n",
       "    <tr>\n",
       "      <th>25%</th>\n",
       "      <td>19575.250000</td>\n",
       "      <td>NaN</td>\n",
       "      <td>NaN</td>\n",
       "      <td>NaN</td>\n",
       "      <td>NaN</td>\n",
       "      <td>NaN</td>\n",
       "      <td>1.000000</td>\n",
       "      <td>29.000000</td>\n",
       "      <td>3.000000</td>\n",
       "      <td>3.000000</td>\n",
       "      <td>0.000000</td>\n",
       "      <td>0.000000</td>\n",
       "      <td>51.000000</td>\n",
       "      <td>0.000000</td>\n",
       "    </tr>\n",
       "    <tr>\n",
       "      <th>50%</th>\n",
       "      <td>39149.500000</td>\n",
       "      <td>NaN</td>\n",
       "      <td>NaN</td>\n",
       "      <td>NaN</td>\n",
       "      <td>NaN</td>\n",
       "      <td>NaN</td>\n",
       "      <td>1.000000</td>\n",
       "      <td>33.000000</td>\n",
       "      <td>3.000000</td>\n",
       "      <td>5.000000</td>\n",
       "      <td>0.000000</td>\n",
       "      <td>0.000000</td>\n",
       "      <td>60.000000</td>\n",
       "      <td>0.000000</td>\n",
       "    </tr>\n",
       "    <tr>\n",
       "      <th>75%</th>\n",
       "      <td>58723.750000</td>\n",
       "      <td>NaN</td>\n",
       "      <td>NaN</td>\n",
       "      <td>NaN</td>\n",
       "      <td>NaN</td>\n",
       "      <td>NaN</td>\n",
       "      <td>1.000000</td>\n",
       "      <td>39.000000</td>\n",
       "      <td>4.000000</td>\n",
       "      <td>7.000000</td>\n",
       "      <td>1.000000</td>\n",
       "      <td>0.000000</td>\n",
       "      <td>76.000000</td>\n",
       "      <td>0.000000</td>\n",
       "    </tr>\n",
       "    <tr>\n",
       "      <th>max</th>\n",
       "      <td>78298.000000</td>\n",
       "      <td>NaN</td>\n",
       "      <td>NaN</td>\n",
       "      <td>NaN</td>\n",
       "      <td>NaN</td>\n",
       "      <td>NaN</td>\n",
       "      <td>10.000000</td>\n",
       "      <td>60.000000</td>\n",
       "      <td>5.000000</td>\n",
       "      <td>37.000000</td>\n",
       "      <td>1.000000</td>\n",
       "      <td>1.000000</td>\n",
       "      <td>99.000000</td>\n",
       "      <td>1.000000</td>\n",
       "    </tr>\n",
       "  </tbody>\n",
       "</table>\n",
       "</div>"
      ],
      "text/plain": [
       "         employee_id         department    region   education gender  \\\n",
       "count   78298.000000              78298     78298       74855  78298   \n",
       "unique           NaN                  9        34           3      2   \n",
       "top              NaN  Sales & Marketing  region_2  Bachelor's      m   \n",
       "freq             NaN              24155     17642       52247  55092   \n",
       "mean    39149.500000                NaN       NaN         NaN    NaN   \n",
       "std     22602.830026                NaN       NaN         NaN    NaN   \n",
       "min         1.000000                NaN       NaN         NaN    NaN   \n",
       "25%     19575.250000                NaN       NaN         NaN    NaN   \n",
       "50%     39149.500000                NaN       NaN         NaN    NaN   \n",
       "75%     58723.750000                NaN       NaN         NaN    NaN   \n",
       "max     78298.000000                NaN       NaN         NaN    NaN   \n",
       "\n",
       "       recruitment_channel  no_of_trainings           age  \\\n",
       "count                78298     78298.000000  78298.000000   \n",
       "unique                   3              NaN           NaN   \n",
       "top                  other              NaN           NaN   \n",
       "freq                 43524              NaN           NaN   \n",
       "mean                   NaN         1.253378     34.797619   \n",
       "std                    NaN         0.606766      7.665928   \n",
       "min                    NaN         1.000000     20.000000   \n",
       "25%                    NaN         1.000000     29.000000   \n",
       "50%                    NaN         1.000000     33.000000   \n",
       "75%                    NaN         1.000000     39.000000   \n",
       "max                    NaN        10.000000     60.000000   \n",
       "\n",
       "        previous_year_rating  length_of_service  KPIs_met >80%   awards_won?  \\\n",
       "count           72362.000000       78298.000000   78298.000000  78298.000000   \n",
       "unique                   NaN                NaN            NaN           NaN   \n",
       "top                      NaN                NaN            NaN           NaN   \n",
       "freq                     NaN                NaN            NaN           NaN   \n",
       "mean                3.332219           5.848974       0.354032      0.023053   \n",
       "std                 1.260982           4.248070       0.478222      0.150073   \n",
       "min                 1.000000           1.000000       0.000000      0.000000   \n",
       "25%                 3.000000           3.000000       0.000000      0.000000   \n",
       "50%                 3.000000           5.000000       0.000000      0.000000   \n",
       "75%                 4.000000           7.000000       1.000000      0.000000   \n",
       "max                 5.000000          37.000000       1.000000      1.000000   \n",
       "\n",
       "        avg_training_score   is_promoted  \n",
       "count         78298.000000  54808.000000  \n",
       "unique                 NaN           NaN  \n",
       "top                    NaN           NaN  \n",
       "freq                   NaN           NaN  \n",
       "mean             63.349664      0.085170  \n",
       "std              13.383664      0.279137  \n",
       "min              39.000000      0.000000  \n",
       "25%              51.000000      0.000000  \n",
       "50%              60.000000      0.000000  \n",
       "75%              76.000000      0.000000  \n",
       "max              99.000000      1.000000  "
      ]
     },
     "execution_count": 8,
     "metadata": {},
     "output_type": "execute_result"
    }
   ],
   "source": [
    "hra.describe(include=\"all\")"
   ]
  },
  {
   "cell_type": "code",
   "execution_count": 9,
   "id": "8a31dc89",
   "metadata": {},
   "outputs": [
    {
     "data": {
      "text/html": [
       "<div>\n",
       "<style scoped>\n",
       "    .dataframe tbody tr th:only-of-type {\n",
       "        vertical-align: middle;\n",
       "    }\n",
       "\n",
       "    .dataframe tbody tr th {\n",
       "        vertical-align: top;\n",
       "    }\n",
       "\n",
       "    .dataframe thead th {\n",
       "        text-align: right;\n",
       "    }\n",
       "</style>\n",
       "<table border=\"1\" class=\"dataframe\">\n",
       "  <thead>\n",
       "    <tr style=\"text-align: right;\">\n",
       "      <th></th>\n",
       "      <th>employee_id</th>\n",
       "      <th>no_of_trainings</th>\n",
       "      <th>age</th>\n",
       "      <th>previous_year_rating</th>\n",
       "      <th>length_of_service</th>\n",
       "      <th>KPIs_met &gt;80%</th>\n",
       "      <th>awards_won?</th>\n",
       "      <th>avg_training_score</th>\n",
       "      <th>is_promoted</th>\n",
       "    </tr>\n",
       "  </thead>\n",
       "  <tbody>\n",
       "    <tr>\n",
       "      <th>count</th>\n",
       "      <td>78298.000000</td>\n",
       "      <td>78298.000000</td>\n",
       "      <td>78298.000000</td>\n",
       "      <td>72362.000000</td>\n",
       "      <td>78298.000000</td>\n",
       "      <td>78298.000000</td>\n",
       "      <td>78298.000000</td>\n",
       "      <td>78298.000000</td>\n",
       "      <td>54808.000000</td>\n",
       "    </tr>\n",
       "    <tr>\n",
       "      <th>mean</th>\n",
       "      <td>39149.500000</td>\n",
       "      <td>1.253378</td>\n",
       "      <td>34.797619</td>\n",
       "      <td>3.332219</td>\n",
       "      <td>5.848974</td>\n",
       "      <td>0.354032</td>\n",
       "      <td>0.023053</td>\n",
       "      <td>63.349664</td>\n",
       "      <td>0.085170</td>\n",
       "    </tr>\n",
       "    <tr>\n",
       "      <th>std</th>\n",
       "      <td>22602.830026</td>\n",
       "      <td>0.606766</td>\n",
       "      <td>7.665928</td>\n",
       "      <td>1.260982</td>\n",
       "      <td>4.248070</td>\n",
       "      <td>0.478222</td>\n",
       "      <td>0.150073</td>\n",
       "      <td>13.383664</td>\n",
       "      <td>0.279137</td>\n",
       "    </tr>\n",
       "    <tr>\n",
       "      <th>min</th>\n",
       "      <td>1.000000</td>\n",
       "      <td>1.000000</td>\n",
       "      <td>20.000000</td>\n",
       "      <td>1.000000</td>\n",
       "      <td>1.000000</td>\n",
       "      <td>0.000000</td>\n",
       "      <td>0.000000</td>\n",
       "      <td>39.000000</td>\n",
       "      <td>0.000000</td>\n",
       "    </tr>\n",
       "    <tr>\n",
       "      <th>25%</th>\n",
       "      <td>19575.250000</td>\n",
       "      <td>1.000000</td>\n",
       "      <td>29.000000</td>\n",
       "      <td>3.000000</td>\n",
       "      <td>3.000000</td>\n",
       "      <td>0.000000</td>\n",
       "      <td>0.000000</td>\n",
       "      <td>51.000000</td>\n",
       "      <td>0.000000</td>\n",
       "    </tr>\n",
       "    <tr>\n",
       "      <th>50%</th>\n",
       "      <td>39149.500000</td>\n",
       "      <td>1.000000</td>\n",
       "      <td>33.000000</td>\n",
       "      <td>3.000000</td>\n",
       "      <td>5.000000</td>\n",
       "      <td>0.000000</td>\n",
       "      <td>0.000000</td>\n",
       "      <td>60.000000</td>\n",
       "      <td>0.000000</td>\n",
       "    </tr>\n",
       "    <tr>\n",
       "      <th>75%</th>\n",
       "      <td>58723.750000</td>\n",
       "      <td>1.000000</td>\n",
       "      <td>39.000000</td>\n",
       "      <td>4.000000</td>\n",
       "      <td>7.000000</td>\n",
       "      <td>1.000000</td>\n",
       "      <td>0.000000</td>\n",
       "      <td>76.000000</td>\n",
       "      <td>0.000000</td>\n",
       "    </tr>\n",
       "    <tr>\n",
       "      <th>max</th>\n",
       "      <td>78298.000000</td>\n",
       "      <td>10.000000</td>\n",
       "      <td>60.000000</td>\n",
       "      <td>5.000000</td>\n",
       "      <td>37.000000</td>\n",
       "      <td>1.000000</td>\n",
       "      <td>1.000000</td>\n",
       "      <td>99.000000</td>\n",
       "      <td>1.000000</td>\n",
       "    </tr>\n",
       "  </tbody>\n",
       "</table>\n",
       "</div>"
      ],
      "text/plain": [
       "        employee_id  no_of_trainings           age  previous_year_rating  \\\n",
       "count  78298.000000     78298.000000  78298.000000          72362.000000   \n",
       "mean   39149.500000         1.253378     34.797619              3.332219   \n",
       "std    22602.830026         0.606766      7.665928              1.260982   \n",
       "min        1.000000         1.000000     20.000000              1.000000   \n",
       "25%    19575.250000         1.000000     29.000000              3.000000   \n",
       "50%    39149.500000         1.000000     33.000000              3.000000   \n",
       "75%    58723.750000         1.000000     39.000000              4.000000   \n",
       "max    78298.000000        10.000000     60.000000              5.000000   \n",
       "\n",
       "       length_of_service  KPIs_met >80%   awards_won?  avg_training_score  \\\n",
       "count       78298.000000   78298.000000  78298.000000        78298.000000   \n",
       "mean            5.848974       0.354032      0.023053           63.349664   \n",
       "std             4.248070       0.478222      0.150073           13.383664   \n",
       "min             1.000000       0.000000      0.000000           39.000000   \n",
       "25%             3.000000       0.000000      0.000000           51.000000   \n",
       "50%             5.000000       0.000000      0.000000           60.000000   \n",
       "75%             7.000000       1.000000      0.000000           76.000000   \n",
       "max            37.000000       1.000000      1.000000           99.000000   \n",
       "\n",
       "        is_promoted  \n",
       "count  54808.000000  \n",
       "mean       0.085170  \n",
       "std        0.279137  \n",
       "min        0.000000  \n",
       "25%        0.000000  \n",
       "50%        0.000000  \n",
       "75%        0.000000  \n",
       "max        1.000000  "
      ]
     },
     "execution_count": 9,
     "metadata": {},
     "output_type": "execute_result"
    }
   ],
   "source": [
    "hra.describe()"
   ]
  },
  {
   "cell_type": "code",
   "execution_count": 10,
   "id": "90465a7b",
   "metadata": {},
   "outputs": [
    {
     "data": {
      "text/plain": [
       "employee_id              0.000000\n",
       "department               0.000000\n",
       "region                   0.000000\n",
       "education                4.397303\n",
       "gender                   0.000000\n",
       "recruitment_channel      0.000000\n",
       "no_of_trainings          0.000000\n",
       "age                      0.000000\n",
       "previous_year_rating     7.581292\n",
       "length_of_service        0.000000\n",
       "KPIs_met >80%            0.000000\n",
       "awards_won?              0.000000\n",
       "avg_training_score       0.000000\n",
       "is_promoted             30.000766\n",
       "dtype: float64"
      ]
     },
     "execution_count": 10,
     "metadata": {},
     "output_type": "execute_result"
    }
   ],
   "source": [
    "(hra.isnull().sum()/hra.shape[0])*100"
   ]
  },
  {
   "cell_type": "code",
   "execution_count": 11,
   "id": "abb81bd4",
   "metadata": {},
   "outputs": [
    {
     "data": {
      "text/html": [
       "<div>\n",
       "<style scoped>\n",
       "    .dataframe tbody tr th:only-of-type {\n",
       "        vertical-align: middle;\n",
       "    }\n",
       "\n",
       "    .dataframe tbody tr th {\n",
       "        vertical-align: top;\n",
       "    }\n",
       "\n",
       "    .dataframe thead th {\n",
       "        text-align: right;\n",
       "    }\n",
       "</style>\n",
       "<table border=\"1\" class=\"dataframe\">\n",
       "  <thead>\n",
       "    <tr style=\"text-align: right;\">\n",
       "      <th></th>\n",
       "      <th>employee_id</th>\n",
       "      <th>department</th>\n",
       "      <th>region</th>\n",
       "      <th>education</th>\n",
       "      <th>gender</th>\n",
       "      <th>recruitment_channel</th>\n",
       "      <th>no_of_trainings</th>\n",
       "      <th>age</th>\n",
       "      <th>previous_year_rating</th>\n",
       "      <th>length_of_service</th>\n",
       "      <th>KPIs_met &gt;80%</th>\n",
       "      <th>awards_won?</th>\n",
       "      <th>avg_training_score</th>\n",
       "      <th>is_promoted</th>\n",
       "    </tr>\n",
       "  </thead>\n",
       "  <tbody>\n",
       "    <tr>\n",
       "      <th>0</th>\n",
       "      <td>8724</td>\n",
       "      <td>Technology</td>\n",
       "      <td>region_26</td>\n",
       "      <td>Bachelor's</td>\n",
       "      <td>m</td>\n",
       "      <td>sourcing</td>\n",
       "      <td>1</td>\n",
       "      <td>24</td>\n",
       "      <td>NaN</td>\n",
       "      <td>1</td>\n",
       "      <td>1</td>\n",
       "      <td>0</td>\n",
       "      <td>77</td>\n",
       "      <td>NaN</td>\n",
       "    </tr>\n",
       "    <tr>\n",
       "      <th>1</th>\n",
       "      <td>74430</td>\n",
       "      <td>HR</td>\n",
       "      <td>region_4</td>\n",
       "      <td>Bachelor's</td>\n",
       "      <td>f</td>\n",
       "      <td>other</td>\n",
       "      <td>1</td>\n",
       "      <td>31</td>\n",
       "      <td>3.0</td>\n",
       "      <td>5</td>\n",
       "      <td>0</td>\n",
       "      <td>0</td>\n",
       "      <td>51</td>\n",
       "      <td>NaN</td>\n",
       "    </tr>\n",
       "    <tr>\n",
       "      <th>2</th>\n",
       "      <td>72255</td>\n",
       "      <td>Sales &amp; Marketing</td>\n",
       "      <td>region_13</td>\n",
       "      <td>Bachelor's</td>\n",
       "      <td>m</td>\n",
       "      <td>other</td>\n",
       "      <td>1</td>\n",
       "      <td>31</td>\n",
       "      <td>1.0</td>\n",
       "      <td>4</td>\n",
       "      <td>0</td>\n",
       "      <td>0</td>\n",
       "      <td>47</td>\n",
       "      <td>NaN</td>\n",
       "    </tr>\n",
       "    <tr>\n",
       "      <th>3</th>\n",
       "      <td>38562</td>\n",
       "      <td>Procurement</td>\n",
       "      <td>region_2</td>\n",
       "      <td>Bachelor's</td>\n",
       "      <td>f</td>\n",
       "      <td>other</td>\n",
       "      <td>3</td>\n",
       "      <td>31</td>\n",
       "      <td>2.0</td>\n",
       "      <td>9</td>\n",
       "      <td>0</td>\n",
       "      <td>0</td>\n",
       "      <td>65</td>\n",
       "      <td>NaN</td>\n",
       "    </tr>\n",
       "    <tr>\n",
       "      <th>4</th>\n",
       "      <td>64486</td>\n",
       "      <td>Finance</td>\n",
       "      <td>region_29</td>\n",
       "      <td>Bachelor's</td>\n",
       "      <td>m</td>\n",
       "      <td>sourcing</td>\n",
       "      <td>1</td>\n",
       "      <td>30</td>\n",
       "      <td>4.0</td>\n",
       "      <td>7</td>\n",
       "      <td>0</td>\n",
       "      <td>0</td>\n",
       "      <td>61</td>\n",
       "      <td>NaN</td>\n",
       "    </tr>\n",
       "  </tbody>\n",
       "</table>\n",
       "</div>"
      ],
      "text/plain": [
       "   employee_id         department     region   education gender  \\\n",
       "0         8724         Technology  region_26  Bachelor's      m   \n",
       "1        74430                 HR   region_4  Bachelor's      f   \n",
       "2        72255  Sales & Marketing  region_13  Bachelor's      m   \n",
       "3        38562        Procurement   region_2  Bachelor's      f   \n",
       "4        64486            Finance  region_29  Bachelor's      m   \n",
       "\n",
       "  recruitment_channel  no_of_trainings  age  previous_year_rating  \\\n",
       "0            sourcing                1   24                   NaN   \n",
       "1               other                1   31                   3.0   \n",
       "2               other                1   31                   1.0   \n",
       "3               other                3   31                   2.0   \n",
       "4            sourcing                1   30                   4.0   \n",
       "\n",
       "   length_of_service  KPIs_met >80%  awards_won?  avg_training_score  \\\n",
       "0                  1              1            0                  77   \n",
       "1                  5              0            0                  51   \n",
       "2                  4              0            0                  47   \n",
       "3                  9              0            0                  65   \n",
       "4                  7              0            0                  61   \n",
       "\n",
       "   is_promoted  \n",
       "0          NaN  \n",
       "1          NaN  \n",
       "2          NaN  \n",
       "3          NaN  \n",
       "4          NaN  "
      ]
     },
     "execution_count": 11,
     "metadata": {},
     "output_type": "execute_result"
    }
   ],
   "source": [
    "hra.head()"
   ]
  },
  {
   "cell_type": "code",
   "execution_count": 12,
   "id": "71736673",
   "metadata": {},
   "outputs": [
    {
     "data": {
      "text/plain": [
       "array([nan,  3.,  1.,  2.,  4.,  5.])"
      ]
     },
     "execution_count": 12,
     "metadata": {},
     "output_type": "execute_result"
    }
   ],
   "source": [
    "hra[\"previous_year_rating\"].unique()"
   ]
  },
  {
   "cell_type": "code",
   "execution_count": 13,
   "id": "bcdaab7e",
   "metadata": {},
   "outputs": [
    {
     "data": {
      "text/plain": [
       "employee_id             78298\n",
       "department                  9\n",
       "region                     34\n",
       "education                   4\n",
       "gender                      2\n",
       "recruitment_channel         3\n",
       "no_of_trainings            10\n",
       "age                        41\n",
       "previous_year_rating        6\n",
       "length_of_service          35\n",
       "KPIs_met >80%               2\n",
       "awards_won?                 2\n",
       "avg_training_score         61\n",
       "is_promoted                 3\n",
       "dtype: int64"
      ]
     },
     "execution_count": 13,
     "metadata": {},
     "output_type": "execute_result"
    }
   ],
   "source": [
    "hra.apply(lambda x: len(x.unique()))"
   ]
  },
  {
   "cell_type": "markdown",
   "id": "6ea0ab6a",
   "metadata": {},
   "source": [
    "# Unvariate Analysis"
   ]
  },
  {
   "cell_type": "code",
   "execution_count": 14,
   "id": "1d06c0c9",
   "metadata": {},
   "outputs": [
    {
     "data": {
      "text/plain": [
       "Sales & Marketing    30.850086\n",
       "Operations           20.577793\n",
       "Procurement          12.973511\n",
       "Technology           12.962017\n",
       "Analytics             9.797185\n",
       "Finance               4.632302\n",
       "HR                    4.473933\n",
       "Legal                 1.895323\n",
       "R&D                   1.837850\n",
       "Name: department, dtype: float64"
      ]
     },
     "execution_count": 14,
     "metadata": {},
     "output_type": "execute_result"
    }
   ],
   "source": [
    "hra[\"department\"].value_counts(normalize = True)*100"
   ]
  },
  {
   "cell_type": "code",
   "execution_count": 15,
   "id": "ccc990b5",
   "metadata": {},
   "outputs": [
    {
     "data": {
      "text/plain": [
       "Bachelor's          69.797609\n",
       "Master's & above    28.627346\n",
       "Below Secondary      1.575045\n",
       "Name: education, dtype: float64"
      ]
     },
     "execution_count": 15,
     "metadata": {},
     "output_type": "execute_result"
    }
   ],
   "source": [
    "hra.education.value_counts(normalize=True)*100"
   ]
  },
  {
   "cell_type": "code",
   "execution_count": 16,
   "id": "974f0a66",
   "metadata": {},
   "outputs": [
    {
     "data": {
      "text/plain": [
       "3443"
      ]
     },
     "execution_count": 16,
     "metadata": {},
     "output_type": "execute_result"
    }
   ],
   "source": [
    "hra.education.isnull().sum()"
   ]
  },
  {
   "cell_type": "markdown",
   "id": "d0ab965c",
   "metadata": {},
   "source": [
    "# Missing Value Treatment"
   ]
  },
  {
   "cell_type": "code",
   "execution_count": 17,
   "id": "3381dad8",
   "metadata": {},
   "outputs": [
    {
     "data": {
      "text/plain": [
       "0"
      ]
     },
     "execution_count": 17,
     "metadata": {},
     "output_type": "execute_result"
    }
   ],
   "source": [
    "hra[\"education\"]=hra[\"education\"].fillna(hra[\"education\"].mode()[0])\n",
    "hra[\"education\"].isnull().sum()"
   ]
  },
  {
   "cell_type": "code",
   "execution_count": 18,
   "id": "be7e1dcb",
   "metadata": {},
   "outputs": [
    {
     "data": {
      "text/plain": [
       "Bachelor's          71.125699\n",
       "Master's & above    27.368515\n",
       "Below Secondary      1.505786\n",
       "Name: education, dtype: float64"
      ]
     },
     "execution_count": 18,
     "metadata": {},
     "output_type": "execute_result"
    }
   ],
   "source": [
    "hra.education.value_counts(normalize=True)*100"
   ]
  },
  {
   "cell_type": "markdown",
   "id": "d9b12d45",
   "metadata": {},
   "source": [
    "# Univariate Analysis Continued*"
   ]
  },
  {
   "cell_type": "code",
   "execution_count": 19,
   "id": "99aaa71e",
   "metadata": {},
   "outputs": [
    {
     "data": {
      "text/plain": [
       "m    70.36195\n",
       "f    29.63805\n",
       "Name: gender, dtype: float64"
      ]
     },
     "execution_count": 19,
     "metadata": {},
     "output_type": "execute_result"
    }
   ],
   "source": [
    "hra.gender.value_counts(normalize=True)*100"
   ]
  },
  {
   "cell_type": "code",
   "execution_count": 20,
   "id": "4577e521",
   "metadata": {},
   "outputs": [
    {
     "data": {
      "text/plain": [
       "other       55.587627\n",
       "sourcing    42.377839\n",
       "referred     2.034535\n",
       "Name: recruitment_channel, dtype: float64"
      ]
     },
     "execution_count": 20,
     "metadata": {},
     "output_type": "execute_result"
    }
   ],
   "source": [
    "hra.recruitment_channel.value_counts(normalize=True)*100"
   ]
  },
  {
   "cell_type": "code",
   "execution_count": 21,
   "id": "4a97983e",
   "metadata": {},
   "outputs": [
    {
     "data": {
      "text/plain": [
       "1     80.852640\n",
       "2     14.727068\n",
       "3      3.232522\n",
       "4      0.840379\n",
       "5      0.209456\n",
       "6      0.086848\n",
       "7      0.026821\n",
       "8      0.008940\n",
       "9      0.008940\n",
       "10     0.006386\n",
       "Name: no_of_trainings, dtype: float64"
      ]
     },
     "execution_count": 21,
     "metadata": {},
     "output_type": "execute_result"
    }
   ],
   "source": [
    "hra.no_of_trainings.value_counts(normalize=True)*100"
   ]
  },
  {
   "cell_type": "code",
   "execution_count": 22,
   "id": "3efae421",
   "metadata": {},
   "outputs": [
    {
     "data": {
      "text/plain": [
       "<AxesSubplot:xlabel='no_of_trainings', ylabel='count'>"
      ]
     },
     "execution_count": 22,
     "metadata": {},
     "output_type": "execute_result"
    },
    {
     "data": {
      "image/png": "[encoded data removed]",
      "text/plain": [
       "<Figure size 432x288 with 1 Axes>"
      ]
     },
     "metadata": {
      "needs_background": "light"
     },
     "output_type": "display_data"
    }
   ],
   "source": [
    "sns.countplot(hra[\"no_of_trainings\"])"
   ]
  },
  {
   "cell_type": "code",
   "execution_count": 23,
   "id": "58eb6baa",
   "metadata": {},
   "outputs": [
    {
     "data": {
      "text/plain": [
       "count    78298.000000\n",
       "mean         1.253378\n",
       "std          0.606766\n",
       "min          1.000000\n",
       "25%          1.000000\n",
       "50%          1.000000\n",
       "75%          1.000000\n",
       "max         10.000000\n",
       "Name: no_of_trainings, dtype: float64"
      ]
     },
     "execution_count": 23,
     "metadata": {},
     "output_type": "execute_result"
    }
   ],
   "source": [
    "hra.no_of_trainings.describe()"
   ]
  },
  {
   "cell_type": "markdown",
   "id": "0953b4b3",
   "metadata": {},
   "source": [
    "# Univariate analysis Continued*"
   ]
  },
  {
   "cell_type": "code",
   "execution_count": 24,
   "id": "9826a722",
   "metadata": {},
   "outputs": [
    {
     "data": {
      "text/plain": [
       "0    64.596797\n",
       "1    35.403203\n",
       "Name: KPIs_met >80%, dtype: float64"
      ]
     },
     "execution_count": 24,
     "metadata": {},
     "output_type": "execute_result"
    }
   ],
   "source": [
    "hra[\"KPIs_met >80%\"].value_counts(normalize=True)*100"
   ]
  },
  {
   "cell_type": "code",
   "execution_count": 25,
   "id": "3415b5ec",
   "metadata": {},
   "outputs": [
    {
     "data": {
      "text/plain": [
       "<AxesSubplot:xlabel='age', ylabel='Density'>"
      ]
     },
     "execution_count": 25,
     "metadata": {},
     "output_type": "execute_result"
    },
    {
     "data": {
      "image/png": "[encoded data removed]",
      "text/plain": [
       "<Figure size 432x288 with 1 Axes>"
      ]
     },
     "metadata": {
      "needs_background": "light"
     },
     "output_type": "display_data"
    }
   ],
   "source": [
    "sns.distplot(hra[\"age\"])"
   ]
  },
  {
   "cell_type": "code",
   "execution_count": 26,
   "id": "838ecc91",
   "metadata": {},
   "outputs": [
    {
     "data": {
      "text/plain": [
       "count    78298.000000\n",
       "mean        34.797619\n",
       "std          7.665928\n",
       "min         20.000000\n",
       "25%         29.000000\n",
       "50%         33.000000\n",
       "75%         39.000000\n",
       "max         60.000000\n",
       "Name: age, dtype: float64"
      ]
     },
     "execution_count": 26,
     "metadata": {},
     "output_type": "execute_result"
    }
   ],
   "source": [
    "hra[\"age\"].describe()"
   ]
  },
  {
   "cell_type": "code",
   "execution_count": 27,
   "id": "2f06e386",
   "metadata": {},
   "outputs": [],
   "source": [
    "#Age Bins\n",
    "hra[\"Age_Bin\"]=np.where(hra.age<=30,\"1_20-30 Yrs\",\n",
    "                             np.where(hra.age>40,\"3_Above 40 Yrs\",\"2_30-40 Yrs\"))"
   ]
  },
  {
   "cell_type": "code",
   "execution_count": 28,
   "id": "bc38f626",
   "metadata": {},
   "outputs": [
    {
     "data": {
      "text/plain": [
       "2_30-40 Yrs       37121\n",
       "1_20-30 Yrs       25946\n",
       "3_Above 40 Yrs    15231\n",
       "Name: Age_Bin, dtype: int64"
      ]
     },
     "execution_count": 28,
     "metadata": {},
     "output_type": "execute_result"
    }
   ],
   "source": [
    "hra[\"Age_Bin\"].value_counts()"
   ]
  },
  {
   "cell_type": "code",
   "execution_count": 29,
   "id": "330ba559",
   "metadata": {},
   "outputs": [
    {
     "name": "stdout",
     "output_type": "stream",
     "text": [
      "1_20-30 Yrs= 1550.0\n",
      "2_30-40 Yrs= 2359.0\n",
      "3_Above 40 Yrs= 759.0\n"
     ]
    }
   ],
   "source": [
    "print(\"1_20-30 Yrs=\",hra[hra[\"Age_Bin\"]==\"1_20-30 Yrs\"][\"is_promoted\"].sum())\n",
    "print(\"2_30-40 Yrs=\",hra[hra[\"Age_Bin\"]==\"2_30-40 Yrs\"][\"is_promoted\"].sum())\n",
    "print(\"3_Above 40 Yrs=\",hra[hra[\"Age_Bin\"]==\"3_Above 40 Yrs\"][\"is_promoted\"].sum())"
   ]
  },
  {
   "cell_type": "code",
   "execution_count": 30,
   "id": "0d8c0cf1",
   "metadata": {},
   "outputs": [],
   "source": [
    "abin=pd.DataFrame(hra.Age_Bin.value_counts())"
   ]
  },
  {
   "cell_type": "code",
   "execution_count": 31,
   "id": "d2dde6cb",
   "metadata": {},
   "outputs": [],
   "source": [
    "prom=hra.groupby(\"Age_Bin\").sum()[\"is_promoted\"]\n",
    "prm_ratio=pd.concat([abin,prom],axis=1)\n",
    "# hra.groupby(\"Age_Bin\").sum()[\"is_promoted\"]"
   ]
  },
  {
   "cell_type": "code",
   "execution_count": 32,
   "id": "4e78a1bc",
   "metadata": {},
   "outputs": [
    {
     "data": {
      "text/html": [
       "<div>\n",
       "<style scoped>\n",
       "    .dataframe tbody tr th:only-of-type {\n",
       "        vertical-align: middle;\n",
       "    }\n",
       "\n",
       "    .dataframe tbody tr th {\n",
       "        vertical-align: top;\n",
       "    }\n",
       "\n",
       "    .dataframe thead th {\n",
       "        text-align: right;\n",
       "    }\n",
       "</style>\n",
       "<table border=\"1\" class=\"dataframe\">\n",
       "  <thead>\n",
       "    <tr style=\"text-align: right;\">\n",
       "      <th></th>\n",
       "      <th>Age_Bin</th>\n",
       "      <th>is_promoted</th>\n",
       "    </tr>\n",
       "  </thead>\n",
       "  <tbody>\n",
       "    <tr>\n",
       "      <th>2_30-40 Yrs</th>\n",
       "      <td>37121</td>\n",
       "      <td>2359.0</td>\n",
       "    </tr>\n",
       "    <tr>\n",
       "      <th>1_20-30 Yrs</th>\n",
       "      <td>25946</td>\n",
       "      <td>1550.0</td>\n",
       "    </tr>\n",
       "    <tr>\n",
       "      <th>3_Above 40 Yrs</th>\n",
       "      <td>15231</td>\n",
       "      <td>759.0</td>\n",
       "    </tr>\n",
       "  </tbody>\n",
       "</table>\n",
       "</div>"
      ],
      "text/plain": [
       "                Age_Bin  is_promoted\n",
       "2_30-40 Yrs       37121       2359.0\n",
       "1_20-30 Yrs       25946       1550.0\n",
       "3_Above 40 Yrs    15231        759.0"
      ]
     },
     "execution_count": 32,
     "metadata": {},
     "output_type": "execute_result"
    }
   ],
   "source": [
    "prm_ratio"
   ]
  },
  {
   "cell_type": "code",
   "execution_count": 33,
   "id": "2bcb0c27",
   "metadata": {},
   "outputs": [],
   "source": [
    "prm_ratio[\"ratio\"]=(prm_ratio.is_promoted/prm_ratio.Age_Bin)*100"
   ]
  },
  {
   "cell_type": "code",
   "execution_count": 34,
   "id": "8f6b20e7",
   "metadata": {},
   "outputs": [
    {
     "data": {
      "text/html": [
       "<div>\n",
       "<style scoped>\n",
       "    .dataframe tbody tr th:only-of-type {\n",
       "        vertical-align: middle;\n",
       "    }\n",
       "\n",
       "    .dataframe tbody tr th {\n",
       "        vertical-align: top;\n",
       "    }\n",
       "\n",
       "    .dataframe thead th {\n",
       "        text-align: right;\n",
       "    }\n",
       "</style>\n",
       "<table border=\"1\" class=\"dataframe\">\n",
       "  <thead>\n",
       "    <tr style=\"text-align: right;\">\n",
       "      <th></th>\n",
       "      <th>Age_Bin</th>\n",
       "      <th>is_promoted</th>\n",
       "      <th>ratio</th>\n",
       "    </tr>\n",
       "  </thead>\n",
       "  <tbody>\n",
       "    <tr>\n",
       "      <th>2_30-40 Yrs</th>\n",
       "      <td>37121</td>\n",
       "      <td>2359.0</td>\n",
       "      <td>6.354893</td>\n",
       "    </tr>\n",
       "    <tr>\n",
       "      <th>1_20-30 Yrs</th>\n",
       "      <td>25946</td>\n",
       "      <td>1550.0</td>\n",
       "      <td>5.973946</td>\n",
       "    </tr>\n",
       "    <tr>\n",
       "      <th>3_Above 40 Yrs</th>\n",
       "      <td>15231</td>\n",
       "      <td>759.0</td>\n",
       "      <td>4.983258</td>\n",
       "    </tr>\n",
       "  </tbody>\n",
       "</table>\n",
       "</div>"
      ],
      "text/plain": [
       "                Age_Bin  is_promoted     ratio\n",
       "2_30-40 Yrs       37121       2359.0  6.354893\n",
       "1_20-30 Yrs       25946       1550.0  5.973946\n",
       "3_Above 40 Yrs    15231        759.0  4.983258"
      ]
     },
     "execution_count": 34,
     "metadata": {},
     "output_type": "execute_result"
    }
   ],
   "source": [
    "prm_ratio"
   ]
  },
  {
   "cell_type": "code",
   "execution_count": 35,
   "id": "fb118779",
   "metadata": {},
   "outputs": [
    {
     "data": {
      "text/plain": [
       "(78298, 15)"
      ]
     },
     "execution_count": 35,
     "metadata": {},
     "output_type": "execute_result"
    }
   ],
   "source": [
    "hra.shape"
   ]
  },
  {
   "cell_type": "code",
   "execution_count": 36,
   "id": "3f38f259",
   "metadata": {},
   "outputs": [
    {
     "data": {
      "text/plain": [
       "3.0    36.675327\n",
       "5.0    23.269119\n",
       "4.0    19.521296\n",
       "1.0    12.303419\n",
       "2.0     8.230839\n",
       "Name: previous_year_rating, dtype: float64"
      ]
     },
     "execution_count": 36,
     "metadata": {},
     "output_type": "execute_result"
    }
   ],
   "source": [
    "hra[\"previous_year_rating\"].value_counts(normalize=True)*100"
   ]
  },
  {
   "cell_type": "code",
   "execution_count": 37,
   "id": "47793714",
   "metadata": {},
   "outputs": [
    {
     "data": {
      "text/plain": [
       "5936"
      ]
     },
     "execution_count": 37,
     "metadata": {},
     "output_type": "execute_result"
    }
   ],
   "source": [
    "hra.previous_year_rating.isnull().sum()"
   ]
  },
  {
   "cell_type": "markdown",
   "id": "36ef2905",
   "metadata": {},
   "source": [
    "# Missing Value Treatment"
   ]
  },
  {
   "cell_type": "code",
   "execution_count": 38,
   "id": "e21230e3",
   "metadata": {},
   "outputs": [
    {
     "data": {
      "text/html": [
       "<div>\n",
       "<style scoped>\n",
       "    .dataframe tbody tr th:only-of-type {\n",
       "        vertical-align: middle;\n",
       "    }\n",
       "\n",
       "    .dataframe tbody tr th {\n",
       "        vertical-align: top;\n",
       "    }\n",
       "\n",
       "    .dataframe thead th {\n",
       "        text-align: right;\n",
       "    }\n",
       "</style>\n",
       "<table border=\"1\" class=\"dataframe\">\n",
       "  <thead>\n",
       "    <tr style=\"text-align: right;\">\n",
       "      <th>KPIs_met &gt;80%</th>\n",
       "      <th>0</th>\n",
       "      <th>1</th>\n",
       "    </tr>\n",
       "    <tr>\n",
       "      <th>previous_year_rating</th>\n",
       "      <th></th>\n",
       "      <th></th>\n",
       "    </tr>\n",
       "  </thead>\n",
       "  <tbody>\n",
       "    <tr>\n",
       "      <th>2.0</th>\n",
       "      <td>4859</td>\n",
       "      <td>1097</td>\n",
       "    </tr>\n",
       "    <tr>\n",
       "      <th>5.0</th>\n",
       "      <td>6073</td>\n",
       "      <td>10765</td>\n",
       "    </tr>\n",
       "    <tr>\n",
       "      <th>1.0</th>\n",
       "      <td>7746</td>\n",
       "      <td>1157</td>\n",
       "    </tr>\n",
       "    <tr>\n",
       "      <th>4.0</th>\n",
       "      <td>8415</td>\n",
       "      <td>5711</td>\n",
       "    </tr>\n",
       "    <tr>\n",
       "      <th>3.0</th>\n",
       "      <td>19637</td>\n",
       "      <td>6902</td>\n",
       "    </tr>\n",
       "  </tbody>\n",
       "</table>\n",
       "</div>"
      ],
      "text/plain": [
       "KPIs_met >80%             0      1\n",
       "previous_year_rating              \n",
       "2.0                    4859   1097\n",
       "5.0                    6073  10765\n",
       "1.0                    7746   1157\n",
       "4.0                    8415   5711\n",
       "3.0                   19637   6902"
      ]
     },
     "execution_count": 38,
     "metadata": {},
     "output_type": "execute_result"
    }
   ],
   "source": [
    "pd.crosstab(hra[\"previous_year_rating\"], hra[\"KPIs_met >80%\"]).sort_values([0])"
   ]
  },
  {
   "cell_type": "code",
   "execution_count": 39,
   "id": "74baf2d9",
   "metadata": {},
   "outputs": [
    {
     "data": {
      "text/html": [
       "<div>\n",
       "<style scoped>\n",
       "    .dataframe tbody tr th:only-of-type {\n",
       "        vertical-align: middle;\n",
       "    }\n",
       "\n",
       "    .dataframe tbody tr th {\n",
       "        vertical-align: top;\n",
       "    }\n",
       "\n",
       "    .dataframe thead th {\n",
       "        text-align: right;\n",
       "    }\n",
       "</style>\n",
       "<table border=\"1\" class=\"dataframe\">\n",
       "  <thead>\n",
       "    <tr style=\"text-align: right;\">\n",
       "      <th></th>\n",
       "      <th>employee_id</th>\n",
       "      <th>no_of_trainings</th>\n",
       "      <th>age</th>\n",
       "      <th>previous_year_rating</th>\n",
       "      <th>length_of_service</th>\n",
       "      <th>KPIs_met &gt;80%</th>\n",
       "      <th>awards_won?</th>\n",
       "      <th>avg_training_score</th>\n",
       "      <th>is_promoted</th>\n",
       "    </tr>\n",
       "  </thead>\n",
       "  <tbody>\n",
       "    <tr>\n",
       "      <th>employee_id</th>\n",
       "      <td>1.000000</td>\n",
       "      <td>-0.005216</td>\n",
       "      <td>0.000586</td>\n",
       "      <td>0.001372</td>\n",
       "      <td>0.004420</td>\n",
       "      <td>0.000127</td>\n",
       "      <td>0.005943</td>\n",
       "      <td>-0.003930</td>\n",
       "      <td>0.001206</td>\n",
       "    </tr>\n",
       "    <tr>\n",
       "      <th>no_of_trainings</th>\n",
       "      <td>-0.005216</td>\n",
       "      <td>1.000000</td>\n",
       "      <td>-0.082536</td>\n",
       "      <td>-0.058439</td>\n",
       "      <td>-0.058403</td>\n",
       "      <td>-0.043912</td>\n",
       "      <td>-0.004818</td>\n",
       "      <td>0.044180</td>\n",
       "      <td>-0.024896</td>\n",
       "    </tr>\n",
       "    <tr>\n",
       "      <th>age</th>\n",
       "      <td>0.000586</td>\n",
       "      <td>-0.082536</td>\n",
       "      <td>1.000000</td>\n",
       "      <td>0.009137</td>\n",
       "      <td>0.653339</td>\n",
       "      <td>-0.026223</td>\n",
       "      <td>-0.007357</td>\n",
       "      <td>-0.044592</td>\n",
       "      <td>-0.017166</td>\n",
       "    </tr>\n",
       "    <tr>\n",
       "      <th>previous_year_rating</th>\n",
       "      <td>0.001372</td>\n",
       "      <td>-0.058439</td>\n",
       "      <td>0.009137</td>\n",
       "      <td>1.000000</td>\n",
       "      <td>0.001063</td>\n",
       "      <td>0.350921</td>\n",
       "      <td>0.027636</td>\n",
       "      <td>0.071813</td>\n",
       "      <td>0.159320</td>\n",
       "    </tr>\n",
       "    <tr>\n",
       "      <th>length_of_service</th>\n",
       "      <td>0.004420</td>\n",
       "      <td>-0.058403</td>\n",
       "      <td>0.653339</td>\n",
       "      <td>0.001063</td>\n",
       "      <td>1.000000</td>\n",
       "      <td>-0.077854</td>\n",
       "      <td>-0.040556</td>\n",
       "      <td>-0.035272</td>\n",
       "      <td>-0.010670</td>\n",
       "    </tr>\n",
       "    <tr>\n",
       "      <th>KPIs_met &gt;80%</th>\n",
       "      <td>0.000127</td>\n",
       "      <td>-0.043912</td>\n",
       "      <td>-0.026223</td>\n",
       "      <td>0.350921</td>\n",
       "      <td>-0.077854</td>\n",
       "      <td>1.000000</td>\n",
       "      <td>0.100365</td>\n",
       "      <td>0.076729</td>\n",
       "      <td>0.221582</td>\n",
       "    </tr>\n",
       "    <tr>\n",
       "      <th>awards_won?</th>\n",
       "      <td>0.005943</td>\n",
       "      <td>-0.004818</td>\n",
       "      <td>-0.007357</td>\n",
       "      <td>0.027636</td>\n",
       "      <td>-0.040556</td>\n",
       "      <td>0.100365</td>\n",
       "      <td>1.000000</td>\n",
       "      <td>0.072655</td>\n",
       "      <td>0.195871</td>\n",
       "    </tr>\n",
       "    <tr>\n",
       "      <th>avg_training_score</th>\n",
       "      <td>-0.003930</td>\n",
       "      <td>0.044180</td>\n",
       "      <td>-0.044592</td>\n",
       "      <td>0.071813</td>\n",
       "      <td>-0.035272</td>\n",
       "      <td>0.076729</td>\n",
       "      <td>0.072655</td>\n",
       "      <td>1.000000</td>\n",
       "      <td>0.181147</td>\n",
       "    </tr>\n",
       "    <tr>\n",
       "      <th>is_promoted</th>\n",
       "      <td>0.001206</td>\n",
       "      <td>-0.024896</td>\n",
       "      <td>-0.017166</td>\n",
       "      <td>0.159320</td>\n",
       "      <td>-0.010670</td>\n",
       "      <td>0.221582</td>\n",
       "      <td>0.195871</td>\n",
       "      <td>0.181147</td>\n",
       "      <td>1.000000</td>\n",
       "    </tr>\n",
       "  </tbody>\n",
       "</table>\n",
       "</div>"
      ],
      "text/plain": [
       "                      employee_id  no_of_trainings       age  \\\n",
       "employee_id              1.000000        -0.005216  0.000586   \n",
       "no_of_trainings         -0.005216         1.000000 -0.082536   \n",
       "age                      0.000586        -0.082536  1.000000   \n",
       "previous_year_rating     0.001372        -0.058439  0.009137   \n",
       "length_of_service        0.004420        -0.058403  0.653339   \n",
       "KPIs_met >80%            0.000127        -0.043912 -0.026223   \n",
       "awards_won?              0.005943        -0.004818 -0.007357   \n",
       "avg_training_score      -0.003930         0.044180 -0.044592   \n",
       "is_promoted              0.001206        -0.024896 -0.017166   \n",
       "\n",
       "                      previous_year_rating  length_of_service  KPIs_met >80%  \\\n",
       "employee_id                       0.001372           0.004420       0.000127   \n",
       "no_of_trainings                  -0.058439          -0.058403      -0.043912   \n",
       "age                               0.009137           0.653339      -0.026223   \n",
       "previous_year_rating              1.000000           0.001063       0.350921   \n",
       "length_of_service                 0.001063           1.000000      -0.077854   \n",
       "KPIs_met >80%                     0.350921          -0.077854       1.000000   \n",
       "awards_won?                       0.027636          -0.040556       0.100365   \n",
       "avg_training_score                0.071813          -0.035272       0.076729   \n",
       "is_promoted                       0.159320          -0.010670       0.221582   \n",
       "\n",
       "                      awards_won?  avg_training_score  is_promoted  \n",
       "employee_id              0.005943           -0.003930     0.001206  \n",
       "no_of_trainings         -0.004818            0.044180    -0.024896  \n",
       "age                     -0.007357           -0.044592    -0.017166  \n",
       "previous_year_rating     0.027636            0.071813     0.159320  \n",
       "length_of_service       -0.040556           -0.035272    -0.010670  \n",
       "KPIs_met >80%            0.100365            0.076729     0.221582  \n",
       "awards_won?              1.000000            0.072655     0.195871  \n",
       "avg_training_score       0.072655            1.000000     0.181147  \n",
       "is_promoted              0.195871            0.181147     1.000000  "
      ]
     },
     "execution_count": 39,
     "metadata": {},
     "output_type": "execute_result"
    }
   ],
   "source": [
    "hra.corr()"
   ]
  },
  {
   "cell_type": "code",
   "execution_count": 40,
   "id": "450d9ab2",
   "metadata": {},
   "outputs": [],
   "source": [
    "hra[\"previous_year_rating\"]=np.round(hra[\"previous_year_rating\"].fillna(hra[\"previous_year_rating\"].groupby(hra[\"KPIs_met >80%\"]).transform(\"mean\")))"
   ]
  },
  {
   "cell_type": "code",
   "execution_count": 41,
   "id": "4634631b",
   "metadata": {},
   "outputs": [
    {
     "data": {
      "text/plain": [
       "<AxesSubplot:xlabel='previous_year_rating', ylabel='Density'>"
      ]
     },
     "execution_count": 41,
     "metadata": {},
     "output_type": "execute_result"
    },
    {
     "data": {
      "image/png": "[encoded data removed]",
      "text/plain": [
       "<Figure size 432x288 with 1 Axes>"
      ]
     },
     "metadata": {
      "needs_background": "light"
     },
     "output_type": "display_data"
    }
   ],
   "source": [
    "sns.distplot(hra.previous_year_rating)"
   ]
  },
  {
   "cell_type": "code",
   "execution_count": 42,
   "id": "b7813352",
   "metadata": {},
   "outputs": [
    {
     "data": {
      "text/plain": [
       "0"
      ]
     },
     "execution_count": 42,
     "metadata": {},
     "output_type": "execute_result"
    }
   ],
   "source": [
    "hra.previous_year_rating.isnull().sum()"
   ]
  },
  {
   "cell_type": "markdown",
   "id": "8ca6d77e",
   "metadata": {},
   "source": [
    "# Univariate Analysis Continued*"
   ]
  },
  {
   "cell_type": "code",
   "execution_count": 43,
   "id": "bb0f4f68",
   "metadata": {},
   "outputs": [
    {
     "data": {
      "text/plain": [
       "<AxesSubplot:xlabel='length_of_service'>"
      ]
     },
     "execution_count": 43,
     "metadata": {},
     "output_type": "execute_result"
    },
    {
     "data": {
      "image/png": "[encoded data removed]",
      "text/plain": [
       "<Figure size 432x288 with 1 Axes>"
      ]
     },
     "metadata": {
      "needs_background": "light"
     },
     "output_type": "display_data"
    }
   ],
   "source": [
    "sns.boxplot(hra[\"length_of_service\"])"
   ]
  },
  {
   "cell_type": "code",
   "execution_count": 44,
   "id": "93a8fead",
   "metadata": {},
   "outputs": [
    {
     "data": {
      "text/plain": [
       "<AxesSubplot:xlabel='length_of_service', ylabel='Density'>"
      ]
     },
     "execution_count": 44,
     "metadata": {},
     "output_type": "execute_result"
    },
    {
     "data": {
      "image/png": "[encoded data removed]",
      "text/plain": [
       "<Figure size 432x288 with 1 Axes>"
      ]
     },
     "metadata": {
      "needs_background": "light"
     },
     "output_type": "display_data"
    }
   ],
   "source": [
    "sns.distplot(hra[\"length_of_service\"])"
   ]
  },
  {
   "cell_type": "markdown",
   "id": "a322796d",
   "metadata": {},
   "source": [
    "# Outlier Treatment"
   ]
  },
  {
   "cell_type": "code",
   "execution_count": 45,
   "id": "32c7154d",
   "metadata": {},
   "outputs": [
    {
     "data": {
      "text/plain": [
       "24.0"
      ]
     },
     "execution_count": 45,
     "metadata": {},
     "output_type": "execute_result"
    }
   ],
   "source": [
    "#Percentile Rule\n",
    "P=np.percentile(hra[\"length_of_service\"],99.5)\n",
    "P"
   ]
  },
  {
   "cell_type": "code",
   "execution_count": 46,
   "id": "107c994e",
   "metadata": {},
   "outputs": [
    {
     "data": {
      "text/plain": [
       "0.4304069069452604"
      ]
     },
     "execution_count": 46,
     "metadata": {},
     "output_type": "execute_result"
    }
   ],
   "source": [
    "p=(hra[hra[\"length_of_service\"]>P][\"length_of_service\"].count()/hra.shape[0])*100\n",
    "p"
   ]
  },
  {
   "cell_type": "code",
   "execution_count": 47,
   "id": "1116d248",
   "metadata": {},
   "outputs": [
    {
     "data": {
      "text/plain": [
       "0         1.0\n",
       "1         5.0\n",
       "2         4.0\n",
       "3         9.0\n",
       "4         7.0\n",
       "         ... \n",
       "54803    17.0\n",
       "54804     6.0\n",
       "54805     3.0\n",
       "54806     2.0\n",
       "54807     5.0\n",
       "Name: length_of_service_99, Length: 78298, dtype: float64"
      ]
     },
     "execution_count": 47,
     "metadata": {},
     "output_type": "execute_result"
    }
   ],
   "source": [
    "hra[\"length_of_service_99\"]=np.where(hra[\"length_of_service\"]>P,P,hra[\"length_of_service\"])\n",
    "hra[\"length_of_service_99\"]"
   ]
  },
  {
   "cell_type": "code",
   "execution_count": 48,
   "id": "94fe616e",
   "metadata": {},
   "outputs": [
    {
     "data": {
      "text/plain": [
       "<AxesSubplot:xlabel='length_of_service_99', ylabel='Density'>"
      ]
     },
     "execution_count": 48,
     "metadata": {},
     "output_type": "execute_result"
    },
    {
     "data": {
      "image/png": "[encoded data removed]",
      "text/plain": [
       "<Figure size 432x288 with 1 Axes>"
      ]
     },
     "metadata": {
      "needs_background": "light"
     },
     "output_type": "display_data"
    }
   ],
   "source": [
    "sns.distplot(hra[\"length_of_service_99\"])"
   ]
  },
  {
   "cell_type": "code",
   "execution_count": 49,
   "id": "bd6f58be",
   "metadata": {},
   "outputs": [],
   "source": [
    "#Taking Log values to shrink the Data\n",
    "hra[\"length_of_service_log\"]=np.log(hra[\"length_of_service\"])"
   ]
  },
  {
   "cell_type": "code",
   "execution_count": 50,
   "id": "32252c73",
   "metadata": {},
   "outputs": [
    {
     "data": {
      "text/plain": [
       "<AxesSubplot:xlabel='length_of_service_log', ylabel='Density'>"
      ]
     },
     "execution_count": 50,
     "metadata": {},
     "output_type": "execute_result"
    },
    {
     "data": {
      "image/png": "[encoded data removed]",
      "text/plain": [
       "<Figure size 432x288 with 1 Axes>"
      ]
     },
     "metadata": {
      "needs_background": "light"
     },
     "output_type": "display_data"
    }
   ],
   "source": [
    "sns.distplot(hra[\"length_of_service_log\"])"
   ]
  },
  {
   "cell_type": "code",
   "execution_count": 51,
   "id": "9b3b4896",
   "metadata": {},
   "outputs": [
    {
     "data": {
      "text/plain": [
       "count    78298.000000\n",
       "mean         5.848974\n",
       "std          4.248070\n",
       "min          1.000000\n",
       "25%          3.000000\n",
       "50%          5.000000\n",
       "75%          7.000000\n",
       "max         37.000000\n",
       "Name: length_of_service, dtype: float64"
      ]
     },
     "execution_count": 51,
     "metadata": {},
     "output_type": "execute_result"
    }
   ],
   "source": [
    "hra.length_of_service.describe()"
   ]
  },
  {
   "cell_type": "code",
   "execution_count": 52,
   "id": "5a4f6a3f",
   "metadata": {},
   "outputs": [],
   "source": [
    "#Bucketing The service column as 75% of data is between 1-7 yrs\n",
    "hra[\"Length_Bucket\"]=np.where(hra.length_of_service<=5,\"1_0-5 Yrs\",\n",
    "                             np.where(hra.length_of_service>7,\"3_Above 7 Yrs\",\"2_5-7 Yrs\"))"
   ]
  },
  {
   "cell_type": "code",
   "execution_count": 53,
   "id": "d253fd88",
   "metadata": {},
   "outputs": [
    {
     "name": "stdout",
     "output_type": "stream",
     "text": [
      "1_0-5 yrs= 2654.0\n",
      "2_5-7 yrs= 865.0\n",
      "3_Above_7 yrs= 1149.0\n"
     ]
    }
   ],
   "source": [
    "print(\"1_0-5 yrs=\",hra[hra[\"Length_Bucket\"]==\"1_0-5 Yrs\"][\"is_promoted\"].sum())\n",
    "print(\"2_5-7 yrs=\",hra[hra[\"Length_Bucket\"]==\"2_5-7 Yrs\"][\"is_promoted\"].sum())\n",
    "print(\"3_Above_7 yrs=\",hra[hra[\"Length_Bucket\"]==\"3_Above 7 Yrs\"][\"is_promoted\"].sum())"
   ]
  },
  {
   "cell_type": "code",
   "execution_count": 54,
   "id": "66c8b84a",
   "metadata": {},
   "outputs": [
    {
     "data": {
      "text/html": [
       "<div>\n",
       "<style scoped>\n",
       "    .dataframe tbody tr th:only-of-type {\n",
       "        vertical-align: middle;\n",
       "    }\n",
       "\n",
       "    .dataframe tbody tr th {\n",
       "        vertical-align: top;\n",
       "    }\n",
       "\n",
       "    .dataframe thead th {\n",
       "        text-align: right;\n",
       "    }\n",
       "</style>\n",
       "<table border=\"1\" class=\"dataframe\">\n",
       "  <thead>\n",
       "    <tr style=\"text-align: right;\">\n",
       "      <th></th>\n",
       "      <th>Length_Bucket</th>\n",
       "    </tr>\n",
       "  </thead>\n",
       "  <tbody>\n",
       "    <tr>\n",
       "      <th>1_0-5 Yrs</th>\n",
       "      <td>44330</td>\n",
       "    </tr>\n",
       "    <tr>\n",
       "      <th>3_Above 7 Yrs</th>\n",
       "      <td>19301</td>\n",
       "    </tr>\n",
       "    <tr>\n",
       "      <th>2_5-7 Yrs</th>\n",
       "      <td>14667</td>\n",
       "    </tr>\n",
       "  </tbody>\n",
       "</table>\n",
       "</div>"
      ],
      "text/plain": [
       "               Length_Bucket\n",
       "1_0-5 Yrs              44330\n",
       "3_Above 7 Yrs          19301\n",
       "2_5-7 Yrs              14667"
      ]
     },
     "execution_count": 54,
     "metadata": {},
     "output_type": "execute_result"
    }
   ],
   "source": [
    "#Dataframing\n",
    "pd.DataFrame(hra.Length_Bucket.value_counts())"
   ]
  },
  {
   "cell_type": "code",
   "execution_count": 55,
   "id": "0400925f",
   "metadata": {},
   "outputs": [
    {
     "data": {
      "text/plain": [
       "0"
      ]
     },
     "execution_count": 55,
     "metadata": {},
     "output_type": "execute_result"
    }
   ],
   "source": [
    "hra[\"Length_Bucket\"].isnull().sum()"
   ]
  },
  {
   "cell_type": "markdown",
   "id": "a6f3beb9",
   "metadata": {},
   "source": [
    "# Univariate Analysis Continued*"
   ]
  },
  {
   "cell_type": "code",
   "execution_count": 56,
   "id": "f2c9a794",
   "metadata": {},
   "outputs": [
    {
     "data": {
      "text/plain": [
       "<AxesSubplot:xlabel='avg_training_score'>"
      ]
     },
     "execution_count": 56,
     "metadata": {},
     "output_type": "execute_result"
    },
    {
     "data": {
      "image/png": "[encoded data removed]",
      "text/plain": [
       "<Figure size 432x288 with 1 Axes>"
      ]
     },
     "metadata": {
      "needs_background": "light"
     },
     "output_type": "display_data"
    }
   ],
   "source": [
    "sns.boxplot(hra[\"avg_training_score\"])"
   ]
  },
  {
   "cell_type": "code",
   "execution_count": 57,
   "id": "e0bff40d",
   "metadata": {},
   "outputs": [
    {
     "data": {
      "text/plain": [
       "<AxesSubplot:xlabel='avg_training_score', ylabel='Density'>"
      ]
     },
     "execution_count": 57,
     "metadata": {},
     "output_type": "execute_result"
    },
    {
     "data": {
      "image/png": "[encoded data removed]",
      "text/plain": [
       "<Figure size 432x288 with 1 Axes>"
      ]
     },
     "metadata": {
      "needs_background": "light"
     },
     "output_type": "display_data"
    }
   ],
   "source": [
    "sns.distplot(hra[\"avg_training_score\"])"
   ]
  },
  {
   "cell_type": "code",
   "execution_count": 58,
   "id": "8a63468a",
   "metadata": {},
   "outputs": [
    {
     "data": {
      "text/plain": [
       "<AxesSubplot:xlabel='awards_won?', ylabel='count'>"
      ]
     },
     "execution_count": 58,
     "metadata": {},
     "output_type": "execute_result"
    },
    {
     "data": {
      "image/png": "[encoded data removed]",
      "text/plain": [
       "<Figure size 432x288 with 1 Axes>"
      ]
     },
     "metadata": {
      "needs_background": "light"
     },
     "output_type": "display_data"
    }
   ],
   "source": [
    "sns.countplot(hra[\"awards_won?\"])"
   ]
  },
  {
   "cell_type": "code",
   "execution_count": 59,
   "id": "73a4b8d0",
   "metadata": {},
   "outputs": [
    {
     "data": {
      "text/plain": [
       "0    97.694705\n",
       "1     2.305295\n",
       "Name: awards_won?, dtype: float64"
      ]
     },
     "execution_count": 59,
     "metadata": {},
     "output_type": "execute_result"
    }
   ],
   "source": [
    "hra[\"awards_won?\"].value_counts(normalize=True)*100"
   ]
  },
  {
   "cell_type": "code",
   "execution_count": 60,
   "id": "fbef4903",
   "metadata": {
    "scrolled": false
   },
   "outputs": [
    {
     "data": {
      "text/plain": [
       "<AxesSubplot:>"
      ]
     },
     "execution_count": 60,
     "metadata": {},
     "output_type": "execute_result"
    },
    {
     "data": {
      "image/png": "[encoded data removed]",
      "text/plain": [
       "<Figure size 936x504 with 2 Axes>"
      ]
     },
     "metadata": {
      "needs_background": "light"
     },
     "output_type": "display_data"
    }
   ],
   "source": [
    "plt.figure(figsize=(13,7))\n",
    "sns.heatmap(hra.corr(), annot=True, vmin=-1, vmax=1, center=0, cmap=\"coolwarm\")"
   ]
  },
  {
   "cell_type": "markdown",
   "id": "b15a0da9",
   "metadata": {},
   "source": [
    "# Bivariate Analysis"
   ]
  },
  {
   "cell_type": "code",
   "execution_count": 61,
   "id": "fb258b82",
   "metadata": {},
   "outputs": [
    {
     "data": {
      "text/html": [
       "<div>\n",
       "<style scoped>\n",
       "    .dataframe tbody tr th:only-of-type {\n",
       "        vertical-align: middle;\n",
       "    }\n",
       "\n",
       "    .dataframe tbody tr th {\n",
       "        vertical-align: top;\n",
       "    }\n",
       "\n",
       "    .dataframe thead th {\n",
       "        text-align: right;\n",
       "    }\n",
       "</style>\n",
       "<table border=\"1\" class=\"dataframe\">\n",
       "  <thead>\n",
       "    <tr style=\"text-align: right;\">\n",
       "      <th></th>\n",
       "      <th>is_promoted</th>\n",
       "    </tr>\n",
       "    <tr>\n",
       "      <th>education</th>\n",
       "      <th></th>\n",
       "    </tr>\n",
       "  </thead>\n",
       "  <tbody>\n",
       "    <tr>\n",
       "      <th>Bachelor's</th>\n",
       "      <td>3130.0</td>\n",
       "    </tr>\n",
       "    <tr>\n",
       "      <th>Below Secondary</th>\n",
       "      <td>67.0</td>\n",
       "    </tr>\n",
       "    <tr>\n",
       "      <th>Master's &amp; above</th>\n",
       "      <td>1471.0</td>\n",
       "    </tr>\n",
       "  </tbody>\n",
       "</table>\n",
       "</div>"
      ],
      "text/plain": [
       "                  is_promoted\n",
       "education                    \n",
       "Bachelor's             3130.0\n",
       "Below Secondary          67.0\n",
       "Master's & above       1471.0"
      ]
     },
     "execution_count": 61,
     "metadata": {},
     "output_type": "execute_result"
    }
   ],
   "source": [
    "Ed_plot=hra.pivot_table(index=\"education\", values=\"is_promoted\", aggfunc=np.sum)\n",
    "Ed_plot"
   ]
  },
  {
   "cell_type": "code",
   "execution_count": 62,
   "id": "755d55b4",
   "metadata": {},
   "outputs": [
    {
     "data": {
      "image/png": "[encoded data removed]",
      "text/plain": [
       "<Figure size 936x504 with 1 Axes>"
      ]
     },
     "metadata": {
      "needs_background": "light"
     },
     "output_type": "display_data"
    }
   ],
   "source": [
    "Ed_plot.plot(kind=\"bar\", figsize=(13,7))\n",
    "plt.xlabel(\"Education\")\n",
    "plt.ylabel(\"is_promoted\")\n",
    "plt.title(\"Eduaction v/s Promotion\")\n",
    "plt.xticks(rotation=0)\n",
    "plt.show()"
   ]
  },
  {
   "cell_type": "code",
   "execution_count": 63,
   "id": "24fd3120",
   "metadata": {},
   "outputs": [
    {
     "data": {
      "text/html": [
       "<div>\n",
       "<style scoped>\n",
       "    .dataframe tbody tr th:only-of-type {\n",
       "        vertical-align: middle;\n",
       "    }\n",
       "\n",
       "    .dataframe tbody tr th {\n",
       "        vertical-align: top;\n",
       "    }\n",
       "\n",
       "    .dataframe thead th {\n",
       "        text-align: right;\n",
       "    }\n",
       "</style>\n",
       "<table border=\"1\" class=\"dataframe\">\n",
       "  <thead>\n",
       "    <tr style=\"text-align: right;\">\n",
       "      <th>is_promoted</th>\n",
       "      <th>0.0</th>\n",
       "      <th>1.0</th>\n",
       "    </tr>\n",
       "    <tr>\n",
       "      <th>gender</th>\n",
       "      <th></th>\n",
       "      <th></th>\n",
       "    </tr>\n",
       "  </thead>\n",
       "  <tbody>\n",
       "    <tr>\n",
       "      <th>f</th>\n",
       "      <td>14845</td>\n",
       "      <td>1467</td>\n",
       "    </tr>\n",
       "    <tr>\n",
       "      <th>m</th>\n",
       "      <td>35295</td>\n",
       "      <td>3201</td>\n",
       "    </tr>\n",
       "  </tbody>\n",
       "</table>\n",
       "</div>"
      ],
      "text/plain": [
       "is_promoted    0.0   1.0\n",
       "gender                  \n",
       "f            14845  1467\n",
       "m            35295  3201"
      ]
     },
     "execution_count": 63,
     "metadata": {},
     "output_type": "execute_result"
    }
   ],
   "source": [
    "pd.crosstab(hra[\"gender\"], hra[\"is_promoted\"])"
   ]
  },
  {
   "cell_type": "code",
   "execution_count": 64,
   "id": "45cadfb0",
   "metadata": {},
   "outputs": [
    {
     "data": {
      "text/html": [
       "<div>\n",
       "<style scoped>\n",
       "    .dataframe tbody tr th:only-of-type {\n",
       "        vertical-align: middle;\n",
       "    }\n",
       "\n",
       "    .dataframe tbody tr th {\n",
       "        vertical-align: top;\n",
       "    }\n",
       "\n",
       "    .dataframe thead th {\n",
       "        text-align: right;\n",
       "    }\n",
       "</style>\n",
       "<table border=\"1\" class=\"dataframe\">\n",
       "  <thead>\n",
       "    <tr style=\"text-align: right;\">\n",
       "      <th>is_promoted</th>\n",
       "      <th>0.0</th>\n",
       "      <th>1.0</th>\n",
       "    </tr>\n",
       "    <tr>\n",
       "      <th>no_of_trainings</th>\n",
       "      <th></th>\n",
       "      <th></th>\n",
       "    </tr>\n",
       "  </thead>\n",
       "  <tbody>\n",
       "    <tr>\n",
       "      <th>1</th>\n",
       "      <td>40468</td>\n",
       "      <td>3910</td>\n",
       "    </tr>\n",
       "    <tr>\n",
       "      <th>2</th>\n",
       "      <td>7382</td>\n",
       "      <td>605</td>\n",
       "    </tr>\n",
       "    <tr>\n",
       "      <th>3</th>\n",
       "      <td>1654</td>\n",
       "      <td>122</td>\n",
       "    </tr>\n",
       "    <tr>\n",
       "      <th>4</th>\n",
       "      <td>442</td>\n",
       "      <td>26</td>\n",
       "    </tr>\n",
       "    <tr>\n",
       "      <th>5</th>\n",
       "      <td>125</td>\n",
       "      <td>3</td>\n",
       "    </tr>\n",
       "    <tr>\n",
       "      <th>6</th>\n",
       "      <td>42</td>\n",
       "      <td>2</td>\n",
       "    </tr>\n",
       "    <tr>\n",
       "      <th>7</th>\n",
       "      <td>12</td>\n",
       "      <td>0</td>\n",
       "    </tr>\n",
       "    <tr>\n",
       "      <th>8</th>\n",
       "      <td>5</td>\n",
       "      <td>0</td>\n",
       "    </tr>\n",
       "    <tr>\n",
       "      <th>9</th>\n",
       "      <td>5</td>\n",
       "      <td>0</td>\n",
       "    </tr>\n",
       "    <tr>\n",
       "      <th>10</th>\n",
       "      <td>5</td>\n",
       "      <td>0</td>\n",
       "    </tr>\n",
       "  </tbody>\n",
       "</table>\n",
       "</div>"
      ],
      "text/plain": [
       "is_promoted        0.0   1.0\n",
       "no_of_trainings             \n",
       "1                40468  3910\n",
       "2                 7382   605\n",
       "3                 1654   122\n",
       "4                  442    26\n",
       "5                  125     3\n",
       "6                   42     2\n",
       "7                   12     0\n",
       "8                    5     0\n",
       "9                    5     0\n",
       "10                   5     0"
      ]
     },
     "execution_count": 64,
     "metadata": {},
     "output_type": "execute_result"
    }
   ],
   "source": [
    "pd.crosstab(hra[\"no_of_trainings\"], hra[\"is_promoted\"])"
   ]
  },
  {
   "cell_type": "code",
   "execution_count": 65,
   "id": "d7fbbe4c",
   "metadata": {},
   "outputs": [
    {
     "data": {
      "text/html": [
       "<div>\n",
       "<style scoped>\n",
       "    .dataframe tbody tr th:only-of-type {\n",
       "        vertical-align: middle;\n",
       "    }\n",
       "\n",
       "    .dataframe tbody tr th {\n",
       "        vertical-align: top;\n",
       "    }\n",
       "\n",
       "    .dataframe thead th {\n",
       "        text-align: right;\n",
       "    }\n",
       "</style>\n",
       "<table border=\"1\" class=\"dataframe\">\n",
       "  <thead>\n",
       "    <tr style=\"text-align: right;\">\n",
       "      <th>is_promoted</th>\n",
       "      <th>0.0</th>\n",
       "      <th>1.0</th>\n",
       "    </tr>\n",
       "    <tr>\n",
       "      <th>Age_Bin</th>\n",
       "      <th></th>\n",
       "      <th></th>\n",
       "    </tr>\n",
       "  </thead>\n",
       "  <tbody>\n",
       "    <tr>\n",
       "      <th>1_20-30 Yrs</th>\n",
       "      <td>16568</td>\n",
       "      <td>1550</td>\n",
       "    </tr>\n",
       "    <tr>\n",
       "      <th>2_30-40 Yrs</th>\n",
       "      <td>23669</td>\n",
       "      <td>2359</td>\n",
       "    </tr>\n",
       "    <tr>\n",
       "      <th>3_Above 40 Yrs</th>\n",
       "      <td>9903</td>\n",
       "      <td>759</td>\n",
       "    </tr>\n",
       "  </tbody>\n",
       "</table>\n",
       "</div>"
      ],
      "text/plain": [
       "is_promoted       0.0   1.0\n",
       "Age_Bin                    \n",
       "1_20-30 Yrs     16568  1550\n",
       "2_30-40 Yrs     23669  2359\n",
       "3_Above 40 Yrs   9903   759"
      ]
     },
     "execution_count": 65,
     "metadata": {},
     "output_type": "execute_result"
    }
   ],
   "source": [
    "pd.crosstab(hra[\"Age_Bin\"], hra[\"is_promoted\"])"
   ]
  },
  {
   "cell_type": "code",
   "execution_count": 66,
   "id": "bbad2a32",
   "metadata": {},
   "outputs": [
    {
     "data": {
      "text/html": [
       "<div>\n",
       "<style scoped>\n",
       "    .dataframe tbody tr th:only-of-type {\n",
       "        vertical-align: middle;\n",
       "    }\n",
       "\n",
       "    .dataframe tbody tr th {\n",
       "        vertical-align: top;\n",
       "    }\n",
       "\n",
       "    .dataframe thead th {\n",
       "        text-align: right;\n",
       "    }\n",
       "</style>\n",
       "<table border=\"1\" class=\"dataframe\">\n",
       "  <thead>\n",
       "    <tr style=\"text-align: right;\">\n",
       "      <th>is_promoted</th>\n",
       "      <th>0.0</th>\n",
       "      <th>1.0</th>\n",
       "    </tr>\n",
       "    <tr>\n",
       "      <th>previous_year_rating</th>\n",
       "      <th></th>\n",
       "      <th></th>\n",
       "    </tr>\n",
       "  </thead>\n",
       "  <tbody>\n",
       "    <tr>\n",
       "      <th>1.0</th>\n",
       "      <td>6135</td>\n",
       "      <td>88</td>\n",
       "    </tr>\n",
       "    <tr>\n",
       "      <th>2.0</th>\n",
       "      <td>4044</td>\n",
       "      <td>181</td>\n",
       "    </tr>\n",
       "    <tr>\n",
       "      <th>3.0</th>\n",
       "      <td>19844</td>\n",
       "      <td>1456</td>\n",
       "    </tr>\n",
       "    <tr>\n",
       "      <th>4.0</th>\n",
       "      <td>10297</td>\n",
       "      <td>1022</td>\n",
       "    </tr>\n",
       "    <tr>\n",
       "      <th>5.0</th>\n",
       "      <td>9820</td>\n",
       "      <td>1921</td>\n",
       "    </tr>\n",
       "  </tbody>\n",
       "</table>\n",
       "</div>"
      ],
      "text/plain": [
       "is_promoted             0.0   1.0\n",
       "previous_year_rating             \n",
       "1.0                    6135    88\n",
       "2.0                    4044   181\n",
       "3.0                   19844  1456\n",
       "4.0                   10297  1022\n",
       "5.0                    9820  1921"
      ]
     },
     "execution_count": 66,
     "metadata": {},
     "output_type": "execute_result"
    }
   ],
   "source": [
    "pd.crosstab(hra[\"previous_year_rating\"], hra[\"is_promoted\"])"
   ]
  },
  {
   "cell_type": "code",
   "execution_count": 67,
   "id": "eb595582",
   "metadata": {},
   "outputs": [
    {
     "data": {
      "text/html": [
       "<div>\n",
       "<style scoped>\n",
       "    .dataframe tbody tr th:only-of-type {\n",
       "        vertical-align: middle;\n",
       "    }\n",
       "\n",
       "    .dataframe tbody tr th {\n",
       "        vertical-align: top;\n",
       "    }\n",
       "\n",
       "    .dataframe thead th {\n",
       "        text-align: right;\n",
       "    }\n",
       "</style>\n",
       "<table border=\"1\" class=\"dataframe\">\n",
       "  <thead>\n",
       "    <tr style=\"text-align: right;\">\n",
       "      <th>is_promoted</th>\n",
       "      <th>0.0</th>\n",
       "      <th>1.0</th>\n",
       "    </tr>\n",
       "    <tr>\n",
       "      <th>Length_Bucket</th>\n",
       "      <th></th>\n",
       "      <th></th>\n",
       "    </tr>\n",
       "  </thead>\n",
       "  <tbody>\n",
       "    <tr>\n",
       "      <th>1_0-5 Yrs</th>\n",
       "      <td>28278</td>\n",
       "      <td>2654</td>\n",
       "    </tr>\n",
       "    <tr>\n",
       "      <th>2_5-7 Yrs</th>\n",
       "      <td>9420</td>\n",
       "      <td>865</td>\n",
       "    </tr>\n",
       "    <tr>\n",
       "      <th>3_Above 7 Yrs</th>\n",
       "      <td>12442</td>\n",
       "      <td>1149</td>\n",
       "    </tr>\n",
       "  </tbody>\n",
       "</table>\n",
       "</div>"
      ],
      "text/plain": [
       "is_promoted      0.0   1.0\n",
       "Length_Bucket             \n",
       "1_0-5 Yrs      28278  2654\n",
       "2_5-7 Yrs       9420   865\n",
       "3_Above 7 Yrs  12442  1149"
      ]
     },
     "execution_count": 67,
     "metadata": {},
     "output_type": "execute_result"
    }
   ],
   "source": [
    "pd.crosstab(hra[\"Length_Bucket\"], hra[\"is_promoted\"])"
   ]
  },
  {
   "cell_type": "code",
   "execution_count": 68,
   "id": "6ab3e558",
   "metadata": {},
   "outputs": [
    {
     "data": {
      "text/html": [
       "<div>\n",
       "<style scoped>\n",
       "    .dataframe tbody tr th:only-of-type {\n",
       "        vertical-align: middle;\n",
       "    }\n",
       "\n",
       "    .dataframe tbody tr th {\n",
       "        vertical-align: top;\n",
       "    }\n",
       "\n",
       "    .dataframe thead th {\n",
       "        text-align: right;\n",
       "    }\n",
       "</style>\n",
       "<table border=\"1\" class=\"dataframe\">\n",
       "  <thead>\n",
       "    <tr style=\"text-align: right;\">\n",
       "      <th>is_promoted</th>\n",
       "      <th>0.0</th>\n",
       "      <th>1.0</th>\n",
       "    </tr>\n",
       "    <tr>\n",
       "      <th>avg_training_score</th>\n",
       "      <th></th>\n",
       "      <th></th>\n",
       "    </tr>\n",
       "  </thead>\n",
       "  <tbody>\n",
       "    <tr>\n",
       "      <th>39</th>\n",
       "      <td>2</td>\n",
       "      <td>0</td>\n",
       "    </tr>\n",
       "    <tr>\n",
       "      <th>40</th>\n",
       "      <td>5</td>\n",
       "      <td>0</td>\n",
       "    </tr>\n",
       "    <tr>\n",
       "      <th>41</th>\n",
       "      <td>25</td>\n",
       "      <td>1</td>\n",
       "    </tr>\n",
       "    <tr>\n",
       "      <th>42</th>\n",
       "      <td>60</td>\n",
       "      <td>2</td>\n",
       "    </tr>\n",
       "    <tr>\n",
       "      <th>43</th>\n",
       "      <td>169</td>\n",
       "      <td>7</td>\n",
       "    </tr>\n",
       "    <tr>\n",
       "      <th>...</th>\n",
       "      <td>...</td>\n",
       "      <td>...</td>\n",
       "    </tr>\n",
       "    <tr>\n",
       "      <th>95</th>\n",
       "      <td>0</td>\n",
       "      <td>45</td>\n",
       "    </tr>\n",
       "    <tr>\n",
       "      <th>96</th>\n",
       "      <td>1</td>\n",
       "      <td>47</td>\n",
       "    </tr>\n",
       "    <tr>\n",
       "      <th>97</th>\n",
       "      <td>0</td>\n",
       "      <td>49</td>\n",
       "    </tr>\n",
       "    <tr>\n",
       "      <th>98</th>\n",
       "      <td>0</td>\n",
       "      <td>37</td>\n",
       "    </tr>\n",
       "    <tr>\n",
       "      <th>99</th>\n",
       "      <td>0</td>\n",
       "      <td>35</td>\n",
       "    </tr>\n",
       "  </tbody>\n",
       "</table>\n",
       "<p>61 rows × 2 columns</p>\n",
       "</div>"
      ],
      "text/plain": [
       "is_promoted         0.0  1.0\n",
       "avg_training_score          \n",
       "39                    2    0\n",
       "40                    5    0\n",
       "41                   25    1\n",
       "42                   60    2\n",
       "43                  169    7\n",
       "...                 ...  ...\n",
       "95                    0   45\n",
       "96                    1   47\n",
       "97                    0   49\n",
       "98                    0   37\n",
       "99                    0   35\n",
       "\n",
       "[61 rows x 2 columns]"
      ]
     },
     "execution_count": 68,
     "metadata": {},
     "output_type": "execute_result"
    }
   ],
   "source": [
    "pd.crosstab(hra[\"avg_training_score\"], hra[\"is_promoted\"])"
   ]
  },
  {
   "cell_type": "code",
   "execution_count": 69,
   "id": "4ebbd57f",
   "metadata": {},
   "outputs": [
    {
     "data": {
      "text/html": [
       "<div>\n",
       "<style scoped>\n",
       "    .dataframe tbody tr th:only-of-type {\n",
       "        vertical-align: middle;\n",
       "    }\n",
       "\n",
       "    .dataframe tbody tr th {\n",
       "        vertical-align: top;\n",
       "    }\n",
       "\n",
       "    .dataframe thead th {\n",
       "        text-align: right;\n",
       "    }\n",
       "</style>\n",
       "<table border=\"1\" class=\"dataframe\">\n",
       "  <thead>\n",
       "    <tr style=\"text-align: right;\">\n",
       "      <th>is_promoted</th>\n",
       "      <th>0.0</th>\n",
       "      <th>1.0</th>\n",
       "    </tr>\n",
       "    <tr>\n",
       "      <th>awards_won?</th>\n",
       "      <th></th>\n",
       "      <th></th>\n",
       "    </tr>\n",
       "  </thead>\n",
       "  <tbody>\n",
       "    <tr>\n",
       "      <th>0</th>\n",
       "      <td>49429</td>\n",
       "      <td>4109</td>\n",
       "    </tr>\n",
       "    <tr>\n",
       "      <th>1</th>\n",
       "      <td>711</td>\n",
       "      <td>559</td>\n",
       "    </tr>\n",
       "  </tbody>\n",
       "</table>\n",
       "</div>"
      ],
      "text/plain": [
       "is_promoted    0.0   1.0\n",
       "awards_won?             \n",
       "0            49429  4109\n",
       "1              711   559"
      ]
     },
     "execution_count": 69,
     "metadata": {},
     "output_type": "execute_result"
    }
   ],
   "source": [
    "pd.crosstab(hra[\"awards_won?\"], hra[\"is_promoted\"])"
   ]
  },
  {
   "cell_type": "code",
   "execution_count": 70,
   "id": "dfd7862e",
   "metadata": {},
   "outputs": [
    {
     "name": "stdout",
     "output_type": "stream",
     "text": [
      "<class 'pandas.core.frame.DataFrame'>\n",
      "Int64Index: 78298 entries, 0 to 54807\n",
      "Data columns (total 18 columns):\n",
      " #   Column                 Non-Null Count  Dtype  \n",
      "---  ------                 --------------  -----  \n",
      " 0   employee_id            78298 non-null  int64  \n",
      " 1   department             78298 non-null  object \n",
      " 2   region                 78298 non-null  object \n",
      " 3   education              78298 non-null  object \n",
      " 4   gender                 78298 non-null  object \n",
      " 5   recruitment_channel    78298 non-null  object \n",
      " 6   no_of_trainings        78298 non-null  int64  \n",
      " 7   age                    78298 non-null  int64  \n",
      " 8   previous_year_rating   78298 non-null  float64\n",
      " 9   length_of_service      78298 non-null  int64  \n",
      " 10  KPIs_met >80%          78298 non-null  int64  \n",
      " 11  awards_won?            78298 non-null  int64  \n",
      " 12  avg_training_score     78298 non-null  int64  \n",
      " 13  is_promoted            54808 non-null  float64\n",
      " 14  Age_Bin                78298 non-null  object \n",
      " 15  length_of_service_99   78298 non-null  float64\n",
      " 16  length_of_service_log  78298 non-null  float64\n",
      " 17  Length_Bucket          78298 non-null  object \n",
      "dtypes: float64(4), int64(7), object(7)\n",
      "memory usage: 13.4+ MB\n"
     ]
    }
   ],
   "source": [
    "hra.info()"
   ]
  },
  {
   "cell_type": "markdown",
   "id": "18a14eb9",
   "metadata": {},
   "source": [
    "# Model Building"
   ]
  },
  {
   "cell_type": "code",
   "execution_count": 71,
   "id": "b75b79a5",
   "metadata": {},
   "outputs": [],
   "source": [
    "hra1= hra.copy()"
   ]
  },
  {
   "cell_type": "code",
   "execution_count": 72,
   "id": "cf2a802b",
   "metadata": {},
   "outputs": [
    {
     "name": "stdout",
     "output_type": "stream",
     "text": [
      "<class 'pandas.core.frame.DataFrame'>\n",
      "Int64Index: 78298 entries, 0 to 54807\n",
      "Data columns (total 18 columns):\n",
      " #   Column                 Non-Null Count  Dtype  \n",
      "---  ------                 --------------  -----  \n",
      " 0   employee_id            78298 non-null  int64  \n",
      " 1   department             78298 non-null  object \n",
      " 2   region                 78298 non-null  object \n",
      " 3   education              78298 non-null  object \n",
      " 4   gender                 78298 non-null  object \n",
      " 5   recruitment_channel    78298 non-null  object \n",
      " 6   no_of_trainings        78298 non-null  int64  \n",
      " 7   age                    78298 non-null  int64  \n",
      " 8   previous_year_rating   78298 non-null  float64\n",
      " 9   length_of_service      78298 non-null  int64  \n",
      " 10  KPIs_met >80%          78298 non-null  int64  \n",
      " 11  awards_won?            78298 non-null  int64  \n",
      " 12  avg_training_score     78298 non-null  int64  \n",
      " 13  is_promoted            54808 non-null  float64\n",
      " 14  Age_Bin                78298 non-null  object \n",
      " 15  length_of_service_99   78298 non-null  float64\n",
      " 16  length_of_service_log  78298 non-null  float64\n",
      " 17  Length_Bucket          78298 non-null  object \n",
      "dtypes: float64(4), int64(7), object(7)\n",
      "memory usage: 13.4+ MB\n"
     ]
    }
   ],
   "source": [
    "hra1.info()"
   ]
  },
  {
   "cell_type": "code",
   "execution_count": 73,
   "id": "1690e8e6",
   "metadata": {},
   "outputs": [],
   "source": [
    "hra1.drop([\"length_of_service_log\", \"length_of_service_99\",\"length_of_service\", \"employee_id\", \"recruitment_channel\", \"region\", \"age\"], axis = 1, inplace = True)"
   ]
  },
  {
   "cell_type": "markdown",
   "id": "85a54819",
   "metadata": {},
   "source": [
    "# Define Dummy Variables"
   ]
  },
  {
   "cell_type": "code",
   "execution_count": 74,
   "id": "7f506805",
   "metadata": {},
   "outputs": [],
   "source": [
    "hra1= pd.get_dummies(hra1, drop_first=True)"
   ]
  },
  {
   "cell_type": "code",
   "execution_count": 75,
   "id": "b3695e34",
   "metadata": {},
   "outputs": [
    {
     "data": {
      "text/html": [
       "<div>\n",
       "<style scoped>\n",
       "    .dataframe tbody tr th:only-of-type {\n",
       "        vertical-align: middle;\n",
       "    }\n",
       "\n",
       "    .dataframe tbody tr th {\n",
       "        vertical-align: top;\n",
       "    }\n",
       "\n",
       "    .dataframe thead th {\n",
       "        text-align: right;\n",
       "    }\n",
       "</style>\n",
       "<table border=\"1\" class=\"dataframe\">\n",
       "  <thead>\n",
       "    <tr style=\"text-align: right;\">\n",
       "      <th></th>\n",
       "      <th>no_of_trainings</th>\n",
       "      <th>previous_year_rating</th>\n",
       "      <th>KPIs_met &gt;80%</th>\n",
       "      <th>awards_won?</th>\n",
       "      <th>avg_training_score</th>\n",
       "      <th>is_promoted</th>\n",
       "      <th>department_Finance</th>\n",
       "      <th>department_HR</th>\n",
       "      <th>department_Legal</th>\n",
       "      <th>department_Operations</th>\n",
       "      <th>...</th>\n",
       "      <th>department_R&amp;D</th>\n",
       "      <th>department_Sales &amp; Marketing</th>\n",
       "      <th>department_Technology</th>\n",
       "      <th>education_Below Secondary</th>\n",
       "      <th>education_Master's &amp; above</th>\n",
       "      <th>gender_m</th>\n",
       "      <th>Age_Bin_2_30-40 Yrs</th>\n",
       "      <th>Age_Bin_3_Above 40 Yrs</th>\n",
       "      <th>Length_Bucket_2_5-7 Yrs</th>\n",
       "      <th>Length_Bucket_3_Above 7 Yrs</th>\n",
       "    </tr>\n",
       "  </thead>\n",
       "  <tbody>\n",
       "    <tr>\n",
       "      <th>0</th>\n",
       "      <td>1</td>\n",
       "      <td>4.0</td>\n",
       "      <td>1</td>\n",
       "      <td>0</td>\n",
       "      <td>77</td>\n",
       "      <td>NaN</td>\n",
       "      <td>0</td>\n",
       "      <td>0</td>\n",
       "      <td>0</td>\n",
       "      <td>0</td>\n",
       "      <td>...</td>\n",
       "      <td>0</td>\n",
       "      <td>0</td>\n",
       "      <td>1</td>\n",
       "      <td>0</td>\n",
       "      <td>0</td>\n",
       "      <td>1</td>\n",
       "      <td>0</td>\n",
       "      <td>0</td>\n",
       "      <td>0</td>\n",
       "      <td>0</td>\n",
       "    </tr>\n",
       "    <tr>\n",
       "      <th>1</th>\n",
       "      <td>1</td>\n",
       "      <td>3.0</td>\n",
       "      <td>0</td>\n",
       "      <td>0</td>\n",
       "      <td>51</td>\n",
       "      <td>NaN</td>\n",
       "      <td>0</td>\n",
       "      <td>1</td>\n",
       "      <td>0</td>\n",
       "      <td>0</td>\n",
       "      <td>...</td>\n",
       "      <td>0</td>\n",
       "      <td>0</td>\n",
       "      <td>0</td>\n",
       "      <td>0</td>\n",
       "      <td>0</td>\n",
       "      <td>0</td>\n",
       "      <td>1</td>\n",
       "      <td>0</td>\n",
       "      <td>0</td>\n",
       "      <td>0</td>\n",
       "    </tr>\n",
       "    <tr>\n",
       "      <th>2</th>\n",
       "      <td>1</td>\n",
       "      <td>1.0</td>\n",
       "      <td>0</td>\n",
       "      <td>0</td>\n",
       "      <td>47</td>\n",
       "      <td>NaN</td>\n",
       "      <td>0</td>\n",
       "      <td>0</td>\n",
       "      <td>0</td>\n",
       "      <td>0</td>\n",
       "      <td>...</td>\n",
       "      <td>0</td>\n",
       "      <td>1</td>\n",
       "      <td>0</td>\n",
       "      <td>0</td>\n",
       "      <td>0</td>\n",
       "      <td>1</td>\n",
       "      <td>1</td>\n",
       "      <td>0</td>\n",
       "      <td>0</td>\n",
       "      <td>0</td>\n",
       "    </tr>\n",
       "    <tr>\n",
       "      <th>3</th>\n",
       "      <td>3</td>\n",
       "      <td>2.0</td>\n",
       "      <td>0</td>\n",
       "      <td>0</td>\n",
       "      <td>65</td>\n",
       "      <td>NaN</td>\n",
       "      <td>0</td>\n",
       "      <td>0</td>\n",
       "      <td>0</td>\n",
       "      <td>0</td>\n",
       "      <td>...</td>\n",
       "      <td>0</td>\n",
       "      <td>0</td>\n",
       "      <td>0</td>\n",
       "      <td>0</td>\n",
       "      <td>0</td>\n",
       "      <td>0</td>\n",
       "      <td>1</td>\n",
       "      <td>0</td>\n",
       "      <td>0</td>\n",
       "      <td>1</td>\n",
       "    </tr>\n",
       "    <tr>\n",
       "      <th>4</th>\n",
       "      <td>1</td>\n",
       "      <td>4.0</td>\n",
       "      <td>0</td>\n",
       "      <td>0</td>\n",
       "      <td>61</td>\n",
       "      <td>NaN</td>\n",
       "      <td>1</td>\n",
       "      <td>0</td>\n",
       "      <td>0</td>\n",
       "      <td>0</td>\n",
       "      <td>...</td>\n",
       "      <td>0</td>\n",
       "      <td>0</td>\n",
       "      <td>0</td>\n",
       "      <td>0</td>\n",
       "      <td>0</td>\n",
       "      <td>1</td>\n",
       "      <td>0</td>\n",
       "      <td>0</td>\n",
       "      <td>1</td>\n",
       "      <td>0</td>\n",
       "    </tr>\n",
       "    <tr>\n",
       "      <th>...</th>\n",
       "      <td>...</td>\n",
       "      <td>...</td>\n",
       "      <td>...</td>\n",
       "      <td>...</td>\n",
       "      <td>...</td>\n",
       "      <td>...</td>\n",
       "      <td>...</td>\n",
       "      <td>...</td>\n",
       "      <td>...</td>\n",
       "      <td>...</td>\n",
       "      <td>...</td>\n",
       "      <td>...</td>\n",
       "      <td>...</td>\n",
       "      <td>...</td>\n",
       "      <td>...</td>\n",
       "      <td>...</td>\n",
       "      <td>...</td>\n",
       "      <td>...</td>\n",
       "      <td>...</td>\n",
       "      <td>...</td>\n",
       "      <td>...</td>\n",
       "    </tr>\n",
       "    <tr>\n",
       "      <th>54803</th>\n",
       "      <td>1</td>\n",
       "      <td>3.0</td>\n",
       "      <td>0</td>\n",
       "      <td>0</td>\n",
       "      <td>78</td>\n",
       "      <td>0.0</td>\n",
       "      <td>0</td>\n",
       "      <td>0</td>\n",
       "      <td>0</td>\n",
       "      <td>0</td>\n",
       "      <td>...</td>\n",
       "      <td>0</td>\n",
       "      <td>0</td>\n",
       "      <td>1</td>\n",
       "      <td>0</td>\n",
       "      <td>0</td>\n",
       "      <td>1</td>\n",
       "      <td>0</td>\n",
       "      <td>1</td>\n",
       "      <td>0</td>\n",
       "      <td>1</td>\n",
       "    </tr>\n",
       "    <tr>\n",
       "      <th>54804</th>\n",
       "      <td>1</td>\n",
       "      <td>2.0</td>\n",
       "      <td>0</td>\n",
       "      <td>0</td>\n",
       "      <td>56</td>\n",
       "      <td>0.0</td>\n",
       "      <td>0</td>\n",
       "      <td>0</td>\n",
       "      <td>0</td>\n",
       "      <td>1</td>\n",
       "      <td>...</td>\n",
       "      <td>0</td>\n",
       "      <td>0</td>\n",
       "      <td>0</td>\n",
       "      <td>0</td>\n",
       "      <td>1</td>\n",
       "      <td>0</td>\n",
       "      <td>1</td>\n",
       "      <td>0</td>\n",
       "      <td>1</td>\n",
       "      <td>0</td>\n",
       "    </tr>\n",
       "    <tr>\n",
       "      <th>54805</th>\n",
       "      <td>1</td>\n",
       "      <td>5.0</td>\n",
       "      <td>1</td>\n",
       "      <td>0</td>\n",
       "      <td>79</td>\n",
       "      <td>0.0</td>\n",
       "      <td>0</td>\n",
       "      <td>0</td>\n",
       "      <td>0</td>\n",
       "      <td>0</td>\n",
       "      <td>...</td>\n",
       "      <td>0</td>\n",
       "      <td>0</td>\n",
       "      <td>0</td>\n",
       "      <td>0</td>\n",
       "      <td>0</td>\n",
       "      <td>1</td>\n",
       "      <td>0</td>\n",
       "      <td>0</td>\n",
       "      <td>0</td>\n",
       "      <td>0</td>\n",
       "    </tr>\n",
       "    <tr>\n",
       "      <th>54806</th>\n",
       "      <td>1</td>\n",
       "      <td>1.0</td>\n",
       "      <td>0</td>\n",
       "      <td>0</td>\n",
       "      <td>45</td>\n",
       "      <td>0.0</td>\n",
       "      <td>0</td>\n",
       "      <td>0</td>\n",
       "      <td>0</td>\n",
       "      <td>0</td>\n",
       "      <td>...</td>\n",
       "      <td>0</td>\n",
       "      <td>1</td>\n",
       "      <td>0</td>\n",
       "      <td>0</td>\n",
       "      <td>0</td>\n",
       "      <td>1</td>\n",
       "      <td>0</td>\n",
       "      <td>0</td>\n",
       "      <td>0</td>\n",
       "      <td>0</td>\n",
       "    </tr>\n",
       "    <tr>\n",
       "      <th>54807</th>\n",
       "      <td>1</td>\n",
       "      <td>1.0</td>\n",
       "      <td>0</td>\n",
       "      <td>0</td>\n",
       "      <td>49</td>\n",
       "      <td>0.0</td>\n",
       "      <td>0</td>\n",
       "      <td>1</td>\n",
       "      <td>0</td>\n",
       "      <td>0</td>\n",
       "      <td>...</td>\n",
       "      <td>0</td>\n",
       "      <td>0</td>\n",
       "      <td>0</td>\n",
       "      <td>0</td>\n",
       "      <td>0</td>\n",
       "      <td>1</td>\n",
       "      <td>0</td>\n",
       "      <td>0</td>\n",
       "      <td>0</td>\n",
       "      <td>0</td>\n",
       "    </tr>\n",
       "  </tbody>\n",
       "</table>\n",
       "<p>78298 rows × 21 columns</p>\n",
       "</div>"
      ],
      "text/plain": [
       "       no_of_trainings  previous_year_rating  KPIs_met >80%  awards_won?  \\\n",
       "0                    1                   4.0              1            0   \n",
       "1                    1                   3.0              0            0   \n",
       "2                    1                   1.0              0            0   \n",
       "3                    3                   2.0              0            0   \n",
       "4                    1                   4.0              0            0   \n",
       "...                ...                   ...            ...          ...   \n",
       "54803                1                   3.0              0            0   \n",
       "54804                1                   2.0              0            0   \n",
       "54805                1                   5.0              1            0   \n",
       "54806                1                   1.0              0            0   \n",
       "54807                1                   1.0              0            0   \n",
       "\n",
       "       avg_training_score  is_promoted  department_Finance  department_HR  \\\n",
       "0                      77          NaN                   0              0   \n",
       "1                      51          NaN                   0              1   \n",
       "2                      47          NaN                   0              0   \n",
       "3                      65          NaN                   0              0   \n",
       "4                      61          NaN                   1              0   \n",
       "...                   ...          ...                 ...            ...   \n",
       "54803                  78          0.0                   0              0   \n",
       "54804                  56          0.0                   0              0   \n",
       "54805                  79          0.0                   0              0   \n",
       "54806                  45          0.0                   0              0   \n",
       "54807                  49          0.0                   0              1   \n",
       "\n",
       "       department_Legal  department_Operations  ...  department_R&D  \\\n",
       "0                     0                      0  ...               0   \n",
       "1                     0                      0  ...               0   \n",
       "2                     0                      0  ...               0   \n",
       "3                     0                      0  ...               0   \n",
       "4                     0                      0  ...               0   \n",
       "...                 ...                    ...  ...             ...   \n",
       "54803                 0                      0  ...               0   \n",
       "54804                 0                      1  ...               0   \n",
       "54805                 0                      0  ...               0   \n",
       "54806                 0                      0  ...               0   \n",
       "54807                 0                      0  ...               0   \n",
       "\n",
       "       department_Sales & Marketing  department_Technology  \\\n",
       "0                                 0                      1   \n",
       "1                                 0                      0   \n",
       "2                                 1                      0   \n",
       "3                                 0                      0   \n",
       "4                                 0                      0   \n",
       "...                             ...                    ...   \n",
       "54803                             0                      1   \n",
       "54804                             0                      0   \n",
       "54805                             0                      0   \n",
       "54806                             1                      0   \n",
       "54807                             0                      0   \n",
       "\n",
       "       education_Below Secondary  education_Master's & above  gender_m  \\\n",
       "0                              0                           0         1   \n",
       "1                              0                           0         0   \n",
       "2                              0                           0         1   \n",
       "3                              0                           0         0   \n",
       "4                              0                           0         1   \n",
       "...                          ...                         ...       ...   \n",
       "54803                          0                           0         1   \n",
       "54804                          0                           1         0   \n",
       "54805                          0                           0         1   \n",
       "54806                          0                           0         1   \n",
       "54807                          0                           0         1   \n",
       "\n",
       "       Age_Bin_2_30-40 Yrs  Age_Bin_3_Above 40 Yrs  Length_Bucket_2_5-7 Yrs  \\\n",
       "0                        0                       0                        0   \n",
       "1                        1                       0                        0   \n",
       "2                        1                       0                        0   \n",
       "3                        1                       0                        0   \n",
       "4                        0                       0                        1   \n",
       "...                    ...                     ...                      ...   \n",
       "54803                    0                       1                        0   \n",
       "54804                    1                       0                        1   \n",
       "54805                    0                       0                        0   \n",
       "54806                    0                       0                        0   \n",
       "54807                    0                       0                        0   \n",
       "\n",
       "       Length_Bucket_3_Above 7 Yrs  \n",
       "0                                0  \n",
       "1                                0  \n",
       "2                                0  \n",
       "3                                1  \n",
       "4                                0  \n",
       "...                            ...  \n",
       "54803                            1  \n",
       "54804                            0  \n",
       "54805                            0  \n",
       "54806                            0  \n",
       "54807                            0  \n",
       "\n",
       "[78298 rows x 21 columns]"
      ]
     },
     "execution_count": 75,
     "metadata": {},
     "output_type": "execute_result"
    }
   ],
   "source": [
    "hra1"
   ]
  },
  {
   "cell_type": "code",
   "execution_count": 76,
   "id": "c61549d5",
   "metadata": {},
   "outputs": [],
   "source": [
    "test1=hra1[hra1[\"is_promoted\"].isnull()]\n",
    "train1=hra1[hra[\"is_promoted\"].notnull()]"
   ]
  },
  {
   "cell_type": "code",
   "execution_count": 77,
   "id": "363ca19c",
   "metadata": {},
   "outputs": [
    {
     "name": "stdout",
     "output_type": "stream",
     "text": [
      "(54808, 21)\n",
      "(23490, 21)\n"
     ]
    }
   ],
   "source": [
    "print(train1.shape)\n",
    "print(test1.shape)"
   ]
  },
  {
   "cell_type": "markdown",
   "id": "4ce72a40",
   "metadata": {},
   "source": [
    "# Assigning X and Y"
   ]
  },
  {
   "cell_type": "code",
   "execution_count": 78,
   "id": "a206360e",
   "metadata": {},
   "outputs": [],
   "source": [
    "train_y=train1[\"is_promoted\"]\n",
    "train_x= train1.drop(\"is_promoted\", axis=1)\n",
    "test_c1=test1.drop(\"is_promoted\", axis=1)"
   ]
  },
  {
   "cell_type": "code",
   "execution_count": 79,
   "id": "6775e061",
   "metadata": {},
   "outputs": [
    {
     "data": {
      "text/html": [
       "<div>\n",
       "<style scoped>\n",
       "    .dataframe tbody tr th:only-of-type {\n",
       "        vertical-align: middle;\n",
       "    }\n",
       "\n",
       "    .dataframe tbody tr th {\n",
       "        vertical-align: top;\n",
       "    }\n",
       "\n",
       "    .dataframe thead th {\n",
       "        text-align: right;\n",
       "    }\n",
       "</style>\n",
       "<table border=\"1\" class=\"dataframe\">\n",
       "  <thead>\n",
       "    <tr style=\"text-align: right;\">\n",
       "      <th></th>\n",
       "      <th>no_of_trainings</th>\n",
       "      <th>previous_year_rating</th>\n",
       "      <th>KPIs_met &gt;80%</th>\n",
       "      <th>awards_won?</th>\n",
       "      <th>avg_training_score</th>\n",
       "      <th>department_Finance</th>\n",
       "      <th>department_HR</th>\n",
       "      <th>department_Legal</th>\n",
       "      <th>department_Operations</th>\n",
       "      <th>department_Procurement</th>\n",
       "      <th>department_R&amp;D</th>\n",
       "      <th>department_Sales &amp; Marketing</th>\n",
       "      <th>department_Technology</th>\n",
       "      <th>education_Below Secondary</th>\n",
       "      <th>education_Master's &amp; above</th>\n",
       "      <th>gender_m</th>\n",
       "      <th>Age_Bin_2_30-40 Yrs</th>\n",
       "      <th>Age_Bin_3_Above 40 Yrs</th>\n",
       "      <th>Length_Bucket_2_5-7 Yrs</th>\n",
       "      <th>Length_Bucket_3_Above 7 Yrs</th>\n",
       "    </tr>\n",
       "  </thead>\n",
       "  <tbody>\n",
       "    <tr>\n",
       "      <th>0</th>\n",
       "      <td>1</td>\n",
       "      <td>5.0</td>\n",
       "      <td>1</td>\n",
       "      <td>0</td>\n",
       "      <td>49</td>\n",
       "      <td>0</td>\n",
       "      <td>0</td>\n",
       "      <td>0</td>\n",
       "      <td>0</td>\n",
       "      <td>0</td>\n",
       "      <td>0</td>\n",
       "      <td>1</td>\n",
       "      <td>0</td>\n",
       "      <td>0</td>\n",
       "      <td>1</td>\n",
       "      <td>0</td>\n",
       "      <td>1</td>\n",
       "      <td>0</td>\n",
       "      <td>0</td>\n",
       "      <td>1</td>\n",
       "    </tr>\n",
       "    <tr>\n",
       "      <th>1</th>\n",
       "      <td>1</td>\n",
       "      <td>5.0</td>\n",
       "      <td>0</td>\n",
       "      <td>0</td>\n",
       "      <td>60</td>\n",
       "      <td>0</td>\n",
       "      <td>0</td>\n",
       "      <td>0</td>\n",
       "      <td>1</td>\n",
       "      <td>0</td>\n",
       "      <td>0</td>\n",
       "      <td>0</td>\n",
       "      <td>0</td>\n",
       "      <td>0</td>\n",
       "      <td>0</td>\n",
       "      <td>1</td>\n",
       "      <td>0</td>\n",
       "      <td>0</td>\n",
       "      <td>0</td>\n",
       "      <td>0</td>\n",
       "    </tr>\n",
       "    <tr>\n",
       "      <th>2</th>\n",
       "      <td>1</td>\n",
       "      <td>3.0</td>\n",
       "      <td>0</td>\n",
       "      <td>0</td>\n",
       "      <td>50</td>\n",
       "      <td>0</td>\n",
       "      <td>0</td>\n",
       "      <td>0</td>\n",
       "      <td>0</td>\n",
       "      <td>0</td>\n",
       "      <td>0</td>\n",
       "      <td>1</td>\n",
       "      <td>0</td>\n",
       "      <td>0</td>\n",
       "      <td>0</td>\n",
       "      <td>1</td>\n",
       "      <td>1</td>\n",
       "      <td>0</td>\n",
       "      <td>1</td>\n",
       "      <td>0</td>\n",
       "    </tr>\n",
       "    <tr>\n",
       "      <th>3</th>\n",
       "      <td>2</td>\n",
       "      <td>1.0</td>\n",
       "      <td>0</td>\n",
       "      <td>0</td>\n",
       "      <td>50</td>\n",
       "      <td>0</td>\n",
       "      <td>0</td>\n",
       "      <td>0</td>\n",
       "      <td>0</td>\n",
       "      <td>0</td>\n",
       "      <td>0</td>\n",
       "      <td>1</td>\n",
       "      <td>0</td>\n",
       "      <td>0</td>\n",
       "      <td>0</td>\n",
       "      <td>1</td>\n",
       "      <td>1</td>\n",
       "      <td>0</td>\n",
       "      <td>0</td>\n",
       "      <td>1</td>\n",
       "    </tr>\n",
       "    <tr>\n",
       "      <th>4</th>\n",
       "      <td>1</td>\n",
       "      <td>3.0</td>\n",
       "      <td>0</td>\n",
       "      <td>0</td>\n",
       "      <td>73</td>\n",
       "      <td>0</td>\n",
       "      <td>0</td>\n",
       "      <td>0</td>\n",
       "      <td>0</td>\n",
       "      <td>0</td>\n",
       "      <td>0</td>\n",
       "      <td>0</td>\n",
       "      <td>1</td>\n",
       "      <td>0</td>\n",
       "      <td>0</td>\n",
       "      <td>1</td>\n",
       "      <td>0</td>\n",
       "      <td>1</td>\n",
       "      <td>0</td>\n",
       "      <td>0</td>\n",
       "    </tr>\n",
       "    <tr>\n",
       "      <th>...</th>\n",
       "      <td>...</td>\n",
       "      <td>...</td>\n",
       "      <td>...</td>\n",
       "      <td>...</td>\n",
       "      <td>...</td>\n",
       "      <td>...</td>\n",
       "      <td>...</td>\n",
       "      <td>...</td>\n",
       "      <td>...</td>\n",
       "      <td>...</td>\n",
       "      <td>...</td>\n",
       "      <td>...</td>\n",
       "      <td>...</td>\n",
       "      <td>...</td>\n",
       "      <td>...</td>\n",
       "      <td>...</td>\n",
       "      <td>...</td>\n",
       "      <td>...</td>\n",
       "      <td>...</td>\n",
       "      <td>...</td>\n",
       "    </tr>\n",
       "    <tr>\n",
       "      <th>54803</th>\n",
       "      <td>1</td>\n",
       "      <td>3.0</td>\n",
       "      <td>0</td>\n",
       "      <td>0</td>\n",
       "      <td>78</td>\n",
       "      <td>0</td>\n",
       "      <td>0</td>\n",
       "      <td>0</td>\n",
       "      <td>0</td>\n",
       "      <td>0</td>\n",
       "      <td>0</td>\n",
       "      <td>0</td>\n",
       "      <td>1</td>\n",
       "      <td>0</td>\n",
       "      <td>0</td>\n",
       "      <td>1</td>\n",
       "      <td>0</td>\n",
       "      <td>1</td>\n",
       "      <td>0</td>\n",
       "      <td>1</td>\n",
       "    </tr>\n",
       "    <tr>\n",
       "      <th>54804</th>\n",
       "      <td>1</td>\n",
       "      <td>2.0</td>\n",
       "      <td>0</td>\n",
       "      <td>0</td>\n",
       "      <td>56</td>\n",
       "      <td>0</td>\n",
       "      <td>0</td>\n",
       "      <td>0</td>\n",
       "      <td>1</td>\n",
       "      <td>0</td>\n",
       "      <td>0</td>\n",
       "      <td>0</td>\n",
       "      <td>0</td>\n",
       "      <td>0</td>\n",
       "      <td>1</td>\n",
       "      <td>0</td>\n",
       "      <td>1</td>\n",
       "      <td>0</td>\n",
       "      <td>1</td>\n",
       "      <td>0</td>\n",
       "    </tr>\n",
       "    <tr>\n",
       "      <th>54805</th>\n",
       "      <td>1</td>\n",
       "      <td>5.0</td>\n",
       "      <td>1</td>\n",
       "      <td>0</td>\n",
       "      <td>79</td>\n",
       "      <td>0</td>\n",
       "      <td>0</td>\n",
       "      <td>0</td>\n",
       "      <td>0</td>\n",
       "      <td>0</td>\n",
       "      <td>0</td>\n",
       "      <td>0</td>\n",
       "      <td>0</td>\n",
       "      <td>0</td>\n",
       "      <td>0</td>\n",
       "      <td>1</td>\n",
       "      <td>0</td>\n",
       "      <td>0</td>\n",
       "      <td>0</td>\n",
       "      <td>0</td>\n",
       "    </tr>\n",
       "    <tr>\n",
       "      <th>54806</th>\n",
       "      <td>1</td>\n",
       "      <td>1.0</td>\n",
       "      <td>0</td>\n",
       "      <td>0</td>\n",
       "      <td>45</td>\n",
       "      <td>0</td>\n",
       "      <td>0</td>\n",
       "      <td>0</td>\n",
       "      <td>0</td>\n",
       "      <td>0</td>\n",
       "      <td>0</td>\n",
       "      <td>1</td>\n",
       "      <td>0</td>\n",
       "      <td>0</td>\n",
       "      <td>0</td>\n",
       "      <td>1</td>\n",
       "      <td>0</td>\n",
       "      <td>0</td>\n",
       "      <td>0</td>\n",
       "      <td>0</td>\n",
       "    </tr>\n",
       "    <tr>\n",
       "      <th>54807</th>\n",
       "      <td>1</td>\n",
       "      <td>1.0</td>\n",
       "      <td>0</td>\n",
       "      <td>0</td>\n",
       "      <td>49</td>\n",
       "      <td>0</td>\n",
       "      <td>1</td>\n",
       "      <td>0</td>\n",
       "      <td>0</td>\n",
       "      <td>0</td>\n",
       "      <td>0</td>\n",
       "      <td>0</td>\n",
       "      <td>0</td>\n",
       "      <td>0</td>\n",
       "      <td>0</td>\n",
       "      <td>1</td>\n",
       "      <td>0</td>\n",
       "      <td>0</td>\n",
       "      <td>0</td>\n",
       "      <td>0</td>\n",
       "    </tr>\n",
       "  </tbody>\n",
       "</table>\n",
       "<p>54808 rows × 20 columns</p>\n",
       "</div>"
      ],
      "text/plain": [
       "       no_of_trainings  previous_year_rating  KPIs_met >80%  awards_won?  \\\n",
       "0                    1                   5.0              1            0   \n",
       "1                    1                   5.0              0            0   \n",
       "2                    1                   3.0              0            0   \n",
       "3                    2                   1.0              0            0   \n",
       "4                    1                   3.0              0            0   \n",
       "...                ...                   ...            ...          ...   \n",
       "54803                1                   3.0              0            0   \n",
       "54804                1                   2.0              0            0   \n",
       "54805                1                   5.0              1            0   \n",
       "54806                1                   1.0              0            0   \n",
       "54807                1                   1.0              0            0   \n",
       "\n",
       "       avg_training_score  department_Finance  department_HR  \\\n",
       "0                      49                   0              0   \n",
       "1                      60                   0              0   \n",
       "2                      50                   0              0   \n",
       "3                      50                   0              0   \n",
       "4                      73                   0              0   \n",
       "...                   ...                 ...            ...   \n",
       "54803                  78                   0              0   \n",
       "54804                  56                   0              0   \n",
       "54805                  79                   0              0   \n",
       "54806                  45                   0              0   \n",
       "54807                  49                   0              1   \n",
       "\n",
       "       department_Legal  department_Operations  department_Procurement  \\\n",
       "0                     0                      0                       0   \n",
       "1                     0                      1                       0   \n",
       "2                     0                      0                       0   \n",
       "3                     0                      0                       0   \n",
       "4                     0                      0                       0   \n",
       "...                 ...                    ...                     ...   \n",
       "54803                 0                      0                       0   \n",
       "54804                 0                      1                       0   \n",
       "54805                 0                      0                       0   \n",
       "54806                 0                      0                       0   \n",
       "54807                 0                      0                       0   \n",
       "\n",
       "       department_R&D  department_Sales & Marketing  department_Technology  \\\n",
       "0                   0                             1                      0   \n",
       "1                   0                             0                      0   \n",
       "2                   0                             1                      0   \n",
       "3                   0                             1                      0   \n",
       "4                   0                             0                      1   \n",
       "...               ...                           ...                    ...   \n",
       "54803               0                             0                      1   \n",
       "54804               0                             0                      0   \n",
       "54805               0                             0                      0   \n",
       "54806               0                             1                      0   \n",
       "54807               0                             0                      0   \n",
       "\n",
       "       education_Below Secondary  education_Master's & above  gender_m  \\\n",
       "0                              0                           1         0   \n",
       "1                              0                           0         1   \n",
       "2                              0                           0         1   \n",
       "3                              0                           0         1   \n",
       "4                              0                           0         1   \n",
       "...                          ...                         ...       ...   \n",
       "54803                          0                           0         1   \n",
       "54804                          0                           1         0   \n",
       "54805                          0                           0         1   \n",
       "54806                          0                           0         1   \n",
       "54807                          0                           0         1   \n",
       "\n",
       "       Age_Bin_2_30-40 Yrs  Age_Bin_3_Above 40 Yrs  Length_Bucket_2_5-7 Yrs  \\\n",
       "0                        1                       0                        0   \n",
       "1                        0                       0                        0   \n",
       "2                        1                       0                        1   \n",
       "3                        1                       0                        0   \n",
       "4                        0                       1                        0   \n",
       "...                    ...                     ...                      ...   \n",
       "54803                    0                       1                        0   \n",
       "54804                    1                       0                        1   \n",
       "54805                    0                       0                        0   \n",
       "54806                    0                       0                        0   \n",
       "54807                    0                       0                        0   \n",
       "\n",
       "       Length_Bucket_3_Above 7 Yrs  \n",
       "0                                1  \n",
       "1                                0  \n",
       "2                                0  \n",
       "3                                1  \n",
       "4                                0  \n",
       "...                            ...  \n",
       "54803                            1  \n",
       "54804                            0  \n",
       "54805                            0  \n",
       "54806                            0  \n",
       "54807                            0  \n",
       "\n",
       "[54808 rows x 20 columns]"
      ]
     },
     "execution_count": 79,
     "metadata": {},
     "output_type": "execute_result"
    }
   ],
   "source": [
    "train_x"
   ]
  },
  {
   "cell_type": "code",
   "execution_count": 80,
   "id": "84c4eaa7",
   "metadata": {},
   "outputs": [
    {
     "data": {
      "text/plain": [
       "0        0.0\n",
       "1        0.0\n",
       "2        0.0\n",
       "3        0.0\n",
       "4        0.0\n",
       "        ... \n",
       "54803    0.0\n",
       "54804    0.0\n",
       "54805    0.0\n",
       "54806    0.0\n",
       "54807    0.0\n",
       "Name: is_promoted, Length: 54808, dtype: float64"
      ]
     },
     "execution_count": 80,
     "metadata": {},
     "output_type": "execute_result"
    }
   ],
   "source": [
    "train_y"
   ]
  },
  {
   "cell_type": "code",
   "execution_count": 81,
   "id": "9b8e8105",
   "metadata": {},
   "outputs": [
    {
     "data": {
      "text/plain": [
       "no_of_trainings                 0\n",
       "previous_year_rating            0\n",
       "KPIs_met >80%                   0\n",
       "awards_won?                     0\n",
       "avg_training_score              0\n",
       "department_Finance              0\n",
       "department_HR                   0\n",
       "department_Legal                0\n",
       "department_Operations           0\n",
       "department_Procurement          0\n",
       "department_R&D                  0\n",
       "department_Sales & Marketing    0\n",
       "department_Technology           0\n",
       "education_Below Secondary       0\n",
       "education_Master's & above      0\n",
       "gender_m                        0\n",
       "Age_Bin_2_30-40 Yrs             0\n",
       "Age_Bin_3_Above 40 Yrs          0\n",
       "Length_Bucket_2_5-7 Yrs         0\n",
       "Length_Bucket_3_Above 7 Yrs     0\n",
       "dtype: int64"
      ]
     },
     "execution_count": 81,
     "metadata": {},
     "output_type": "execute_result"
    }
   ],
   "source": [
    "test_c1.isnull().sum()"
   ]
  },
  {
   "cell_type": "markdown",
   "id": "d1273de2",
   "metadata": {},
   "source": [
    "## --------------------------------------------------------------------------------------------------------------------------"
   ]
  },
  {
   "cell_type": "markdown",
   "id": "8e69550b",
   "metadata": {},
   "source": [
    "# ***Logistic Regression Model"
   ]
  },
  {
   "cell_type": "code",
   "execution_count": 82,
   "id": "8a4c1e4f",
   "metadata": {},
   "outputs": [],
   "source": [
    "from sklearn.linear_model import LogisticRegression\n",
    "LR= LogisticRegression()\n",
    "model = LR.fit(train_x, train_y )"
   ]
  },
  {
   "cell_type": "code",
   "execution_count": 83,
   "id": "23798ae8",
   "metadata": {},
   "outputs": [
    {
     "data": {
      "text/plain": [
       "LogisticRegression()"
      ]
     },
     "execution_count": 83,
     "metadata": {},
     "output_type": "execute_result"
    }
   ],
   "source": [
    "model"
   ]
  },
  {
   "cell_type": "markdown",
   "id": "813f94a9",
   "metadata": {},
   "source": [
    "# Model Evaluation"
   ]
  },
  {
   "cell_type": "code",
   "execution_count": 84,
   "id": "ca500fa3",
   "metadata": {},
   "outputs": [],
   "source": [
    "pred1 = model.predict(test_c1)"
   ]
  },
  {
   "cell_type": "code",
   "execution_count": 85,
   "id": "aab2e7ae",
   "metadata": {},
   "outputs": [
    {
     "data": {
      "text/plain": [
       "array([0., 0., 0., ..., 0., 0., 0.])"
      ]
     },
     "execution_count": 85,
     "metadata": {},
     "output_type": "execute_result"
    }
   ],
   "source": [
    "pred1"
   ]
  },
  {
   "cell_type": "code",
   "execution_count": 86,
   "id": "39202f2f",
   "metadata": {},
   "outputs": [],
   "source": [
    "D_final = hr_test[\"employee_id\"]"
   ]
  },
  {
   "cell_type": "code",
   "execution_count": 87,
   "id": "e349d06e",
   "metadata": {},
   "outputs": [],
   "source": [
    "predicted = pd.concat([D_final,pd.DataFrame(pred1, columns=[\"is_promoted\"])],axis=1)"
   ]
  },
  {
   "cell_type": "markdown",
   "id": "e4d6bf8d",
   "metadata": {},
   "source": [
    "# Predicted promotion"
   ]
  },
  {
   "cell_type": "code",
   "execution_count": 88,
   "id": "26b55f7a",
   "metadata": {},
   "outputs": [
    {
     "data": {
      "text/html": [
       "<div>\n",
       "<style scoped>\n",
       "    .dataframe tbody tr th:only-of-type {\n",
       "        vertical-align: middle;\n",
       "    }\n",
       "\n",
       "    .dataframe tbody tr th {\n",
       "        vertical-align: top;\n",
       "    }\n",
       "\n",
       "    .dataframe thead th {\n",
       "        text-align: right;\n",
       "    }\n",
       "</style>\n",
       "<table border=\"1\" class=\"dataframe\">\n",
       "  <thead>\n",
       "    <tr style=\"text-align: right;\">\n",
       "      <th></th>\n",
       "      <th>employee_id</th>\n",
       "      <th>is_promoted</th>\n",
       "    </tr>\n",
       "  </thead>\n",
       "  <tbody>\n",
       "    <tr>\n",
       "      <th>0</th>\n",
       "      <td>8724</td>\n",
       "      <td>0.0</td>\n",
       "    </tr>\n",
       "    <tr>\n",
       "      <th>1</th>\n",
       "      <td>74430</td>\n",
       "      <td>0.0</td>\n",
       "    </tr>\n",
       "    <tr>\n",
       "      <th>2</th>\n",
       "      <td>72255</td>\n",
       "      <td>0.0</td>\n",
       "    </tr>\n",
       "    <tr>\n",
       "      <th>3</th>\n",
       "      <td>38562</td>\n",
       "      <td>0.0</td>\n",
       "    </tr>\n",
       "    <tr>\n",
       "      <th>4</th>\n",
       "      <td>64486</td>\n",
       "      <td>0.0</td>\n",
       "    </tr>\n",
       "  </tbody>\n",
       "</table>\n",
       "</div>"
      ],
      "text/plain": [
       "   employee_id  is_promoted\n",
       "0         8724          0.0\n",
       "1        74430          0.0\n",
       "2        72255          0.0\n",
       "3        38562          0.0\n",
       "4        64486          0.0"
      ]
     },
     "execution_count": 88,
     "metadata": {},
     "output_type": "execute_result"
    }
   ],
   "source": [
    "predicted.head()"
   ]
  },
  {
   "cell_type": "code",
   "execution_count": 89,
   "id": "f41ef3a5",
   "metadata": {},
   "outputs": [
    {
     "data": {
      "text/plain": [
       "0.0    23182\n",
       "1.0      308\n",
       "Name: is_promoted, dtype: int64"
      ]
     },
     "execution_count": 89,
     "metadata": {},
     "output_type": "execute_result"
    }
   ],
   "source": [
    "predicted[\"is_promoted\"].value_counts()"
   ]
  },
  {
   "cell_type": "code",
   "execution_count": 90,
   "id": "0ddfc4ed",
   "metadata": {},
   "outputs": [],
   "source": [
    "predicted[\"is_promoted\"]=predicted[\"is_promoted\"].apply(lambda x:int(x))"
   ]
  },
  {
   "cell_type": "code",
   "execution_count": 91,
   "id": "588d5a95",
   "metadata": {},
   "outputs": [
    {
     "data": {
      "text/html": [
       "<div>\n",
       "<style scoped>\n",
       "    .dataframe tbody tr th:only-of-type {\n",
       "        vertical-align: middle;\n",
       "    }\n",
       "\n",
       "    .dataframe tbody tr th {\n",
       "        vertical-align: top;\n",
       "    }\n",
       "\n",
       "    .dataframe thead th {\n",
       "        text-align: right;\n",
       "    }\n",
       "</style>\n",
       "<table border=\"1\" class=\"dataframe\">\n",
       "  <thead>\n",
       "    <tr style=\"text-align: right;\">\n",
       "      <th></th>\n",
       "      <th>employee_id</th>\n",
       "      <th>is_promoted</th>\n",
       "    </tr>\n",
       "  </thead>\n",
       "  <tbody>\n",
       "    <tr>\n",
       "      <th>0</th>\n",
       "      <td>8724</td>\n",
       "      <td>0</td>\n",
       "    </tr>\n",
       "    <tr>\n",
       "      <th>1</th>\n",
       "      <td>74430</td>\n",
       "      <td>0</td>\n",
       "    </tr>\n",
       "    <tr>\n",
       "      <th>2</th>\n",
       "      <td>72255</td>\n",
       "      <td>0</td>\n",
       "    </tr>\n",
       "    <tr>\n",
       "      <th>3</th>\n",
       "      <td>38562</td>\n",
       "      <td>0</td>\n",
       "    </tr>\n",
       "    <tr>\n",
       "      <th>4</th>\n",
       "      <td>64486</td>\n",
       "      <td>0</td>\n",
       "    </tr>\n",
       "  </tbody>\n",
       "</table>\n",
       "</div>"
      ],
      "text/plain": [
       "   employee_id  is_promoted\n",
       "0         8724            0\n",
       "1        74430            0\n",
       "2        72255            0\n",
       "3        38562            0\n",
       "4        64486            0"
      ]
     },
     "execution_count": 91,
     "metadata": {},
     "output_type": "execute_result"
    }
   ],
   "source": [
    "predicted.head()"
   ]
  },
  {
   "cell_type": "markdown",
   "id": "57702507",
   "metadata": {},
   "source": [
    "# Exporting Final Prediction"
   ]
  },
  {
   "cell_type": "code",
   "execution_count": 92,
   "id": "b1b5aab4",
   "metadata": {},
   "outputs": [],
   "source": [
    "#predicted.to_csv(\"Predicted Promotion_OG Logi1.csv\", index=False)"
   ]
  },
  {
   "cell_type": "markdown",
   "id": "b7fbefea",
   "metadata": {},
   "source": [
    "# ***Decision Tree Model"
   ]
  },
  {
   "cell_type": "markdown",
   "id": "cd18d98e",
   "metadata": {},
   "source": [
    "### Training Decision tree algorithm using Classifier"
   ]
  },
  {
   "cell_type": "code",
   "execution_count": 93,
   "id": "8b0c61a4",
   "metadata": {},
   "outputs": [
    {
     "data": {
      "text/plain": [
       "DecisionTreeClassifier()"
      ]
     },
     "execution_count": 93,
     "metadata": {},
     "output_type": "execute_result"
    }
   ],
   "source": [
    "from sklearn.tree import DecisionTreeClassifier\n",
    "dtc=DecisionTreeClassifier()\n",
    "dtc.fit(train_x,train_y)"
   ]
  },
  {
   "cell_type": "code",
   "execution_count": 94,
   "id": "42d835a2",
   "metadata": {},
   "outputs": [],
   "source": [
    "y_pred_dt=dtc.predict(test_c1)"
   ]
  },
  {
   "cell_type": "code",
   "execution_count": 95,
   "id": "f406b9d4",
   "metadata": {},
   "outputs": [
    {
     "data": {
      "text/plain": [
       "array([0., 0., 0., ..., 0., 0., 1.])"
      ]
     },
     "execution_count": 95,
     "metadata": {},
     "output_type": "execute_result"
    }
   ],
   "source": [
    "y_pred_dt"
   ]
  },
  {
   "cell_type": "code",
   "execution_count": 96,
   "id": "fe3bb559",
   "metadata": {},
   "outputs": [],
   "source": [
    "DT_pred=pd.concat([D_final,pd.DataFrame(y_pred_dt,columns=[\"is_promoted\"])], axis=1)"
   ]
  },
  {
   "cell_type": "code",
   "execution_count": 97,
   "id": "68b6967a",
   "metadata": {},
   "outputs": [
    {
     "data": {
      "text/html": [
       "<div>\n",
       "<style scoped>\n",
       "    .dataframe tbody tr th:only-of-type {\n",
       "        vertical-align: middle;\n",
       "    }\n",
       "\n",
       "    .dataframe tbody tr th {\n",
       "        vertical-align: top;\n",
       "    }\n",
       "\n",
       "    .dataframe thead th {\n",
       "        text-align: right;\n",
       "    }\n",
       "</style>\n",
       "<table border=\"1\" class=\"dataframe\">\n",
       "  <thead>\n",
       "    <tr style=\"text-align: right;\">\n",
       "      <th></th>\n",
       "      <th>employee_id</th>\n",
       "      <th>is_promoted</th>\n",
       "    </tr>\n",
       "  </thead>\n",
       "  <tbody>\n",
       "    <tr>\n",
       "      <th>0</th>\n",
       "      <td>8724</td>\n",
       "      <td>0.0</td>\n",
       "    </tr>\n",
       "    <tr>\n",
       "      <th>1</th>\n",
       "      <td>74430</td>\n",
       "      <td>0.0</td>\n",
       "    </tr>\n",
       "    <tr>\n",
       "      <th>2</th>\n",
       "      <td>72255</td>\n",
       "      <td>0.0</td>\n",
       "    </tr>\n",
       "    <tr>\n",
       "      <th>3</th>\n",
       "      <td>38562</td>\n",
       "      <td>0.0</td>\n",
       "    </tr>\n",
       "    <tr>\n",
       "      <th>4</th>\n",
       "      <td>64486</td>\n",
       "      <td>0.0</td>\n",
       "    </tr>\n",
       "    <tr>\n",
       "      <th>...</th>\n",
       "      <td>...</td>\n",
       "      <td>...</td>\n",
       "    </tr>\n",
       "    <tr>\n",
       "      <th>23485</th>\n",
       "      <td>53478</td>\n",
       "      <td>0.0</td>\n",
       "    </tr>\n",
       "    <tr>\n",
       "      <th>23486</th>\n",
       "      <td>25600</td>\n",
       "      <td>0.0</td>\n",
       "    </tr>\n",
       "    <tr>\n",
       "      <th>23487</th>\n",
       "      <td>45409</td>\n",
       "      <td>0.0</td>\n",
       "    </tr>\n",
       "    <tr>\n",
       "      <th>23488</th>\n",
       "      <td>1186</td>\n",
       "      <td>0.0</td>\n",
       "    </tr>\n",
       "    <tr>\n",
       "      <th>23489</th>\n",
       "      <td>5973</td>\n",
       "      <td>1.0</td>\n",
       "    </tr>\n",
       "  </tbody>\n",
       "</table>\n",
       "<p>23490 rows × 2 columns</p>\n",
       "</div>"
      ],
      "text/plain": [
       "       employee_id  is_promoted\n",
       "0             8724          0.0\n",
       "1            74430          0.0\n",
       "2            72255          0.0\n",
       "3            38562          0.0\n",
       "4            64486          0.0\n",
       "...            ...          ...\n",
       "23485        53478          0.0\n",
       "23486        25600          0.0\n",
       "23487        45409          0.0\n",
       "23488         1186          0.0\n",
       "23489         5973          1.0\n",
       "\n",
       "[23490 rows x 2 columns]"
      ]
     },
     "execution_count": 97,
     "metadata": {},
     "output_type": "execute_result"
    }
   ],
   "source": [
    "DT_pred"
   ]
  },
  {
   "cell_type": "code",
   "execution_count": 98,
   "id": "e2c30d21",
   "metadata": {},
   "outputs": [
    {
     "data": {
      "text/plain": [
       "0.0    22144\n",
       "1.0     1346\n",
       "Name: is_promoted, dtype: int64"
      ]
     },
     "execution_count": 98,
     "metadata": {},
     "output_type": "execute_result"
    }
   ],
   "source": [
    "DT_pred[\"is_promoted\"].value_counts()"
   ]
  },
  {
   "cell_type": "code",
   "execution_count": 99,
   "id": "4addaeb0",
   "metadata": {},
   "outputs": [],
   "source": [
    "DT_pred[\"is_promoted\"]=DT_pred[\"is_promoted\"].apply(lambda x:int(x))"
   ]
  },
  {
   "cell_type": "markdown",
   "id": "6af7e387",
   "metadata": {},
   "source": [
    "# Exporting the predicted file"
   ]
  },
  {
   "cell_type": "code",
   "execution_count": 100,
   "id": "5cd79206",
   "metadata": {},
   "outputs": [],
   "source": [
    "#DT_pred.to_csv(\"Predicted Promotion_OG by Decision Tree.csv\", index=False)"
   ]
  },
  {
   "cell_type": "markdown",
   "id": "1b6d7942",
   "metadata": {},
   "source": [
    "## ----------------------------------------------------------------------------------------------------------------------"
   ]
  },
  {
   "cell_type": "markdown",
   "id": "24ff9ecb",
   "metadata": {},
   "source": [
    "# ***Random Forest Model"
   ]
  },
  {
   "cell_type": "markdown",
   "id": "306284a9",
   "metadata": {},
   "source": [
    "### Training Algorithm"
   ]
  },
  {
   "cell_type": "code",
   "execution_count": 101,
   "id": "eac672d0",
   "metadata": {},
   "outputs": [
    {
     "data": {
      "text/plain": [
       "RandomForestClassifier(n_estimators=95, random_state=0)"
      ]
     },
     "execution_count": 101,
     "metadata": {},
     "output_type": "execute_result"
    }
   ],
   "source": [
    "from sklearn.ensemble import RandomForestClassifier\n",
    "rfc=RandomForestClassifier(n_estimators=95, random_state=0)\n",
    "rfc.fit(train_x, train_y)"
   ]
  },
  {
   "cell_type": "code",
   "execution_count": 102,
   "id": "0ecf7d26",
   "metadata": {},
   "outputs": [],
   "source": [
    "y_pred_rfc=rfc.predict(test_c1)"
   ]
  },
  {
   "cell_type": "code",
   "execution_count": 103,
   "id": "fdd4a9fb",
   "metadata": {},
   "outputs": [
    {
     "data": {
      "text/plain": [
       "array([0., 0., 0., ..., 0., 0., 1.])"
      ]
     },
     "execution_count": 103,
     "metadata": {},
     "output_type": "execute_result"
    }
   ],
   "source": [
    "y_pred_rfc"
   ]
  },
  {
   "cell_type": "code",
   "execution_count": 104,
   "id": "60be48d1",
   "metadata": {},
   "outputs": [],
   "source": [
    "rfc_pred=pd.concat([D_final,pd.DataFrame(y_pred_rfc, columns=[\"is_promoted\"])], axis=1)"
   ]
  },
  {
   "cell_type": "code",
   "execution_count": 105,
   "id": "10cfc1a7",
   "metadata": {},
   "outputs": [
    {
     "data": {
      "text/plain": [
       "0.0    22323\n",
       "1.0     1167\n",
       "Name: is_promoted, dtype: int64"
      ]
     },
     "execution_count": 105,
     "metadata": {},
     "output_type": "execute_result"
    }
   ],
   "source": [
    "rfc_pred[\"is_promoted\"].value_counts()"
   ]
  },
  {
   "cell_type": "code",
   "execution_count": 106,
   "id": "63190d53",
   "metadata": {},
   "outputs": [],
   "source": [
    "rfc_pred[\"is_promoted\"]=rfc_pred[\"is_promoted\"].apply(lambda x:int(x))"
   ]
  },
  {
   "cell_type": "markdown",
   "id": "c40d7b77",
   "metadata": {},
   "source": [
    "# Exporting file"
   ]
  },
  {
   "cell_type": "code",
   "execution_count": 107,
   "id": "d1e92288",
   "metadata": {},
   "outputs": [],
   "source": [
    "#rfc_pred.to_csv(\"Predicted Promotion_OG by Random Forest95.csv\", index=False)"
   ]
  },
  {
   "cell_type": "markdown",
   "id": "17f6ac8b",
   "metadata": {},
   "source": [
    "## --------------------------------------------------------------------------------------------------------------------"
   ]
  },
  {
   "cell_type": "markdown",
   "id": "f6d6587e",
   "metadata": {},
   "source": [
    "# Validating number of estimators"
   ]
  },
  {
   "cell_type": "code",
   "execution_count": 108,
   "id": "20c7fd89",
   "metadata": {},
   "outputs": [],
   "source": [
    "from sklearn.model_selection import train_test_split\n",
    "from sklearn.metrics import f1_score"
   ]
  },
  {
   "cell_type": "code",
   "execution_count": 109,
   "id": "c057d3d3",
   "metadata": {},
   "outputs": [],
   "source": [
    "tr_x, tst_x, tr_y, tst_y = train_test_split(train_x,train_y, train_size=0.8)"
   ]
  },
  {
   "cell_type": "code",
   "execution_count": 110,
   "id": "37ae620c",
   "metadata": {},
   "outputs": [],
   "source": [
    "est=[]\n",
    "f1=[]\n",
    "for i in range(1,101):\n",
    "    rfc=RandomForestClassifier(n_estimators=i, random_state=0)\n",
    "    rfc.fit(tr_x,tr_y)\n",
    "    \n",
    "    pr=rfc.predict(tst_x)\n",
    "    f1s= f1_score(tst_y, pr)\n",
    "    est.append(i)\n",
    "    f1.append(f1s)"
   ]
  },
  {
   "cell_type": "code",
   "execution_count": 111,
   "id": "0b599b6c",
   "metadata": {},
   "outputs": [],
   "source": [
    "dt={\"Estimator\":est, \"F1 Score\":f1}"
   ]
  },
  {
   "cell_type": "code",
   "execution_count": 112,
   "id": "cd11a4e6",
   "metadata": {},
   "outputs": [],
   "source": [
    "dt1=pd.DataFrame(dt)"
   ]
  },
  {
   "cell_type": "code",
   "execution_count": 113,
   "id": "41ac5415",
   "metadata": {},
   "outputs": [
    {
     "data": {
      "text/html": [
       "<div>\n",
       "<style scoped>\n",
       "    .dataframe tbody tr th:only-of-type {\n",
       "        vertical-align: middle;\n",
       "    }\n",
       "\n",
       "    .dataframe tbody tr th {\n",
       "        vertical-align: top;\n",
       "    }\n",
       "\n",
       "    .dataframe thead th {\n",
       "        text-align: right;\n",
       "    }\n",
       "</style>\n",
       "<table border=\"1\" class=\"dataframe\">\n",
       "  <thead>\n",
       "    <tr style=\"text-align: right;\">\n",
       "      <th></th>\n",
       "      <th>Estimator</th>\n",
       "      <th>F1 Score</th>\n",
       "    </tr>\n",
       "  </thead>\n",
       "  <tbody>\n",
       "    <tr>\n",
       "      <th>0</th>\n",
       "      <td>1</td>\n",
       "      <td>0.428986</td>\n",
       "    </tr>\n",
       "    <tr>\n",
       "      <th>1</th>\n",
       "      <td>2</td>\n",
       "      <td>0.402367</td>\n",
       "    </tr>\n",
       "    <tr>\n",
       "      <th>2</th>\n",
       "      <td>3</td>\n",
       "      <td>0.456588</td>\n",
       "    </tr>\n",
       "    <tr>\n",
       "      <th>3</th>\n",
       "      <td>4</td>\n",
       "      <td>0.439871</td>\n",
       "    </tr>\n",
       "    <tr>\n",
       "      <th>4</th>\n",
       "      <td>5</td>\n",
       "      <td>0.461633</td>\n",
       "    </tr>\n",
       "    <tr>\n",
       "      <th>...</th>\n",
       "      <td>...</td>\n",
       "      <td>...</td>\n",
       "    </tr>\n",
       "    <tr>\n",
       "      <th>95</th>\n",
       "      <td>96</td>\n",
       "      <td>0.486867</td>\n",
       "    </tr>\n",
       "    <tr>\n",
       "      <th>96</th>\n",
       "      <td>97</td>\n",
       "      <td>0.485275</td>\n",
       "    </tr>\n",
       "    <tr>\n",
       "      <th>97</th>\n",
       "      <td>98</td>\n",
       "      <td>0.483418</td>\n",
       "    </tr>\n",
       "    <tr>\n",
       "      <th>98</th>\n",
       "      <td>99</td>\n",
       "      <td>0.485623</td>\n",
       "    </tr>\n",
       "    <tr>\n",
       "      <th>99</th>\n",
       "      <td>100</td>\n",
       "      <td>0.486244</td>\n",
       "    </tr>\n",
       "  </tbody>\n",
       "</table>\n",
       "<p>100 rows × 2 columns</p>\n",
       "</div>"
      ],
      "text/plain": [
       "    Estimator  F1 Score\n",
       "0           1  0.428986\n",
       "1           2  0.402367\n",
       "2           3  0.456588\n",
       "3           4  0.439871\n",
       "4           5  0.461633\n",
       "..        ...       ...\n",
       "95         96  0.486867\n",
       "96         97  0.485275\n",
       "97         98  0.483418\n",
       "98         99  0.485623\n",
       "99        100  0.486244\n",
       "\n",
       "[100 rows x 2 columns]"
      ]
     },
     "execution_count": 113,
     "metadata": {},
     "output_type": "execute_result"
    }
   ],
   "source": [
    "dt1"
   ]
  },
  {
   "cell_type": "code",
   "execution_count": 114,
   "id": "916ff453",
   "metadata": {},
   "outputs": [
    {
     "data": {
      "text/plain": [
       "[<matplotlib.lines.Line2D at 0x17943acd9d0>]"
      ]
     },
     "execution_count": 114,
     "metadata": {},
     "output_type": "execute_result"
    },
    {
     "data": {
      "image/png": "[encoded data removed]",
      "text/plain": [
       "<Figure size 1080x720 with 1 Axes>"
      ]
     },
     "metadata": {
      "needs_background": "light"
     },
     "output_type": "display_data"
    }
   ],
   "source": [
    "plt.figure(figsize=(15,10))\n",
    "plt.plot(dt1[\"Estimator\"],dt1[\"F1 Score\"])"
   ]
  },
  {
   "cell_type": "markdown",
   "id": "ad26f212",
   "metadata": {},
   "source": [
    "## ----------------------------------------------------------------------------------------------------------------"
   ]
  },
  {
   "cell_type": "markdown",
   "id": "e7e5b767",
   "metadata": {},
   "source": [
    "# ***Naive Bayes Classifier Algorithm"
   ]
  },
  {
   "cell_type": "code",
   "execution_count": 115,
   "id": "28eca6f6",
   "metadata": {},
   "outputs": [],
   "source": [
    "from sklearn.naive_bayes import GaussianNB\n",
    "GNB= GaussianNB()\n",
    "model = GNB.fit(train_x, train_y )"
   ]
  },
  {
   "cell_type": "code",
   "execution_count": 116,
   "id": "6ac5d7ad",
   "metadata": {},
   "outputs": [],
   "source": [
    "y_pred_gnb=GNB.predict(test_c1)"
   ]
  },
  {
   "cell_type": "code",
   "execution_count": 117,
   "id": "73d5bf91",
   "metadata": {},
   "outputs": [
    {
     "data": {
      "text/plain": [
       "array([0., 0., 0., ..., 0., 0., 0.])"
      ]
     },
     "execution_count": 117,
     "metadata": {},
     "output_type": "execute_result"
    }
   ],
   "source": [
    "y_pred_gnb"
   ]
  },
  {
   "cell_type": "code",
   "execution_count": 118,
   "id": "9c4913ee",
   "metadata": {},
   "outputs": [],
   "source": [
    "gnb_pred=pd.concat([D_final,pd.DataFrame(y_pred_gnb, columns=[\"is_promoted\"])], axis=1)"
   ]
  },
  {
   "cell_type": "code",
   "execution_count": 119,
   "id": "d27b64ef",
   "metadata": {},
   "outputs": [
    {
     "data": {
      "text/plain": [
       "0.0    22513\n",
       "1.0      977\n",
       "Name: is_promoted, dtype: int64"
      ]
     },
     "execution_count": 119,
     "metadata": {},
     "output_type": "execute_result"
    }
   ],
   "source": [
    "gnb_pred[\"is_promoted\"].value_counts()"
   ]
  },
  {
   "cell_type": "code",
   "execution_count": 120,
   "id": "587e49e1",
   "metadata": {},
   "outputs": [],
   "source": [
    "#gnb_pred[\"is_promoted\"]=gnb_pred[\"is_promoted\"].apply(lambda x:int(x))"
   ]
  },
  {
   "cell_type": "markdown",
   "id": "2108acd3",
   "metadata": {},
   "source": [
    "# Exporting file"
   ]
  },
  {
   "cell_type": "code",
   "execution_count": 121,
   "id": "398b8973",
   "metadata": {},
   "outputs": [],
   "source": [
    "#gnb_pred.to_csv(\"Predicted Promotion_OG by Naive Bayes.csv\", index=False)"
   ]
  },
  {
   "cell_type": "markdown",
   "id": "bde958eb",
   "metadata": {},
   "source": [
    "## --------------------------------------------------------------------------------------------------------------------"
   ]
  },
  {
   "cell_type": "code",
   "execution_count": 122,
   "id": "8be5ec78",
   "metadata": {},
   "outputs": [],
   "source": [
    "from statistics import mode"
   ]
  },
  {
   "cell_type": "markdown",
   "id": "ad329da0",
   "metadata": {},
   "source": [
    "# ***Voting Classifier (Ensemble Method) Algorithm"
   ]
  },
  {
   "cell_type": "code",
   "execution_count": 123,
   "id": "ad93b958",
   "metadata": {},
   "outputs": [],
   "source": [
    "# Traditional Approach\n",
    "final_pred_voting=np.array([])\n",
    "for i in range(0,len(test_c1)):\n",
    "    final_pred_voting= np.append(final_pred_voting, mode([pred1[i],y_pred_dt[i],y_pred_rfc[i],y_pred_gnb[i]]))"
   ]
  },
  {
   "cell_type": "code",
   "execution_count": 124,
   "id": "90a9016d",
   "metadata": {},
   "outputs": [
    {
     "data": {
      "text/plain": [
       "array([0., 0., 0., ..., 0., 0., 0.])"
      ]
     },
     "execution_count": 124,
     "metadata": {},
     "output_type": "execute_result"
    }
   ],
   "source": [
    "final_pred_voting"
   ]
  },
  {
   "cell_type": "code",
   "execution_count": 125,
   "id": "df2edcb8",
   "metadata": {},
   "outputs": [
    {
     "data": {
      "text/plain": [
       "VotingClassifier(estimators=[('lr', LogisticRegression(random_state=0)),\n",
       "                             ('dt', DecisionTreeClassifier(random_state=0)),\n",
       "                             ('rfc',\n",
       "                              RandomForestClassifier(n_estimators=95,\n",
       "                                                     random_state=0))])"
      ]
     },
     "execution_count": 125,
     "metadata": {},
     "output_type": "execute_result"
    }
   ],
   "source": [
    "#Voting Algorithm Approach\n",
    "from sklearn.ensemble import VotingClassifier\n",
    "model1=LogisticRegression(random_state=0)\n",
    "model2=DecisionTreeClassifier(random_state=0)\n",
    "model3=RandomForestClassifier(random_state=0,n_estimators=95)\n",
    "model= VotingClassifier(estimators=[(\"lr\",model1),(\"dt\",model2),(\"rfc\",model3)], voting=\"hard\")\n",
    "model.fit(train_x,train_y)"
   ]
  },
  {
   "cell_type": "code",
   "execution_count": 126,
   "id": "faa507c5",
   "metadata": {},
   "outputs": [
    {
     "name": "stdout",
     "output_type": "stream",
     "text": [
      "<class 'pandas.core.frame.DataFrame'>\n",
      "Int64Index: 23490 entries, 0 to 23489\n",
      "Data columns (total 20 columns):\n",
      " #   Column                        Non-Null Count  Dtype  \n",
      "---  ------                        --------------  -----  \n",
      " 0   no_of_trainings               23490 non-null  int64  \n",
      " 1   previous_year_rating          23490 non-null  float64\n",
      " 2   KPIs_met >80%                 23490 non-null  int64  \n",
      " 3   awards_won?                   23490 non-null  int64  \n",
      " 4   avg_training_score            23490 non-null  int64  \n",
      " 5   department_Finance            23490 non-null  uint8  \n",
      " 6   department_HR                 23490 non-null  uint8  \n",
      " 7   department_Legal              23490 non-null  uint8  \n",
      " 8   department_Operations         23490 non-null  uint8  \n",
      " 9   department_Procurement        23490 non-null  uint8  \n",
      " 10  department_R&D                23490 non-null  uint8  \n",
      " 11  department_Sales & Marketing  23490 non-null  uint8  \n",
      " 12  department_Technology         23490 non-null  uint8  \n",
      " 13  education_Below Secondary     23490 non-null  uint8  \n",
      " 14  education_Master's & above    23490 non-null  uint8  \n",
      " 15  gender_m                      23490 non-null  uint8  \n",
      " 16  Age_Bin_2_30-40 Yrs           23490 non-null  uint8  \n",
      " 17  Age_Bin_3_Above 40 Yrs        23490 non-null  uint8  \n",
      " 18  Length_Bucket_2_5-7 Yrs       23490 non-null  uint8  \n",
      " 19  Length_Bucket_3_Above 7 Yrs   23490 non-null  uint8  \n",
      "dtypes: float64(1), int64(4), uint8(15)\n",
      "memory usage: 1.4 MB\n"
     ]
    }
   ],
   "source": [
    "test_c1.info()"
   ]
  },
  {
   "cell_type": "code",
   "execution_count": 127,
   "id": "21b19059",
   "metadata": {},
   "outputs": [],
   "source": [
    "pred_ensemble=model.predict(test_c1)"
   ]
  },
  {
   "cell_type": "code",
   "execution_count": 128,
   "id": "b1417f94",
   "metadata": {},
   "outputs": [
    {
     "data": {
      "text/plain": [
       "array([0., 0., 0., ..., 0., 0., 1.])"
      ]
     },
     "execution_count": 128,
     "metadata": {},
     "output_type": "execute_result"
    }
   ],
   "source": [
    "pred_ensemble"
   ]
  },
  {
   "cell_type": "code",
   "execution_count": 129,
   "id": "b9b54d34",
   "metadata": {},
   "outputs": [
    {
     "data": {
      "text/plain": [
       "0.0    22436\n",
       "1.0     1054\n",
       "dtype: int64"
      ]
     },
     "execution_count": 129,
     "metadata": {},
     "output_type": "execute_result"
    }
   ],
   "source": [
    "pd.DataFrame(pred_ensemble).value_counts()"
   ]
  },
  {
   "cell_type": "code",
   "execution_count": 130,
   "id": "769741b4",
   "metadata": {},
   "outputs": [
    {
     "data": {
      "text/plain": [
       "Index(['employee_id', 'department', 'region', 'education', 'gender',\n",
       "       'recruitment_channel', 'no_of_trainings', 'age', 'previous_year_rating',\n",
       "       'length_of_service', 'KPIs_met >80%', 'awards_won?',\n",
       "       'avg_training_score'],\n",
       "      dtype='object')"
      ]
     },
     "execution_count": 130,
     "metadata": {},
     "output_type": "execute_result"
    }
   ],
   "source": [
    "hr_test.columns"
   ]
  },
  {
   "cell_type": "code",
   "execution_count": 131,
   "id": "96893991",
   "metadata": {},
   "outputs": [],
   "source": [
    "Prediction_Ensemble=pd.concat([hr_test.employee_id,pd.DataFrame(pred_ensemble)],axis=1)"
   ]
  },
  {
   "cell_type": "code",
   "execution_count": 132,
   "id": "c47fbcb0",
   "metadata": {},
   "outputs": [
    {
     "data": {
      "text/html": [
       "<div>\n",
       "<style scoped>\n",
       "    .dataframe tbody tr th:only-of-type {\n",
       "        vertical-align: middle;\n",
       "    }\n",
       "\n",
       "    .dataframe tbody tr th {\n",
       "        vertical-align: top;\n",
       "    }\n",
       "\n",
       "    .dataframe thead th {\n",
       "        text-align: right;\n",
       "    }\n",
       "</style>\n",
       "<table border=\"1\" class=\"dataframe\">\n",
       "  <thead>\n",
       "    <tr style=\"text-align: right;\">\n",
       "      <th></th>\n",
       "      <th>employee_id</th>\n",
       "      <th>0</th>\n",
       "    </tr>\n",
       "  </thead>\n",
       "  <tbody>\n",
       "    <tr>\n",
       "      <th>0</th>\n",
       "      <td>8724</td>\n",
       "      <td>0.0</td>\n",
       "    </tr>\n",
       "    <tr>\n",
       "      <th>1</th>\n",
       "      <td>74430</td>\n",
       "      <td>0.0</td>\n",
       "    </tr>\n",
       "    <tr>\n",
       "      <th>2</th>\n",
       "      <td>72255</td>\n",
       "      <td>0.0</td>\n",
       "    </tr>\n",
       "    <tr>\n",
       "      <th>3</th>\n",
       "      <td>38562</td>\n",
       "      <td>0.0</td>\n",
       "    </tr>\n",
       "    <tr>\n",
       "      <th>4</th>\n",
       "      <td>64486</td>\n",
       "      <td>0.0</td>\n",
       "    </tr>\n",
       "  </tbody>\n",
       "</table>\n",
       "</div>"
      ],
      "text/plain": [
       "   employee_id    0\n",
       "0         8724  0.0\n",
       "1        74430  0.0\n",
       "2        72255  0.0\n",
       "3        38562  0.0\n",
       "4        64486  0.0"
      ]
     },
     "execution_count": 132,
     "metadata": {},
     "output_type": "execute_result"
    }
   ],
   "source": [
    "Prediction_Ensemble.head()"
   ]
  },
  {
   "cell_type": "code",
   "execution_count": 133,
   "id": "4d8c8117",
   "metadata": {},
   "outputs": [],
   "source": [
    "Prediction_Ensemble.columns=[\"employee_id\",\"is_promoted\"]"
   ]
  },
  {
   "cell_type": "code",
   "execution_count": 134,
   "id": "674cd380",
   "metadata": {},
   "outputs": [],
   "source": [
    "Prediction_Ensemble.is_promoted=Prediction_Ensemble.is_promoted.apply(int)"
   ]
  },
  {
   "cell_type": "code",
   "execution_count": 135,
   "id": "6ecd3c4e",
   "metadata": {},
   "outputs": [],
   "source": [
    "#Prediction_Ensemble.to_csv(\"Prediction_Ensemble.csv\",index=False)"
   ]
  },
  {
   "cell_type": "markdown",
   "id": "d643ee50",
   "metadata": {},
   "source": [
    "## -----------------------------------------------------------------------------------------------------------------------"
   ]
  },
  {
   "cell_type": "markdown",
   "id": "ccf322ef",
   "metadata": {},
   "source": [
    "# ****Adaboost (Boosting Algorithm)"
   ]
  },
  {
   "cell_type": "code",
   "execution_count": 136,
   "id": "c294a4f6",
   "metadata": {},
   "outputs": [
    {
     "data": {
      "text/plain": [
       "AdaBoostClassifier(random_state=1)"
      ]
     },
     "execution_count": 136,
     "metadata": {},
     "output_type": "execute_result"
    }
   ],
   "source": [
    "from sklearn.ensemble import AdaBoostClassifier\n",
    "abc=AdaBoostClassifier(random_state=1)\n",
    "abc.fit(train_x,train_y)"
   ]
  },
  {
   "cell_type": "code",
   "execution_count": 137,
   "id": "97c02d30",
   "metadata": {},
   "outputs": [],
   "source": [
    "abc_pred=abc.predict(test_c1)"
   ]
  },
  {
   "cell_type": "code",
   "execution_count": 138,
   "id": "290d46c0",
   "metadata": {},
   "outputs": [
    {
     "data": {
      "text/plain": [
       "array([0., 0., 0., ..., 0., 0., 0.])"
      ]
     },
     "execution_count": 138,
     "metadata": {},
     "output_type": "execute_result"
    }
   ],
   "source": [
    "abc_pred"
   ]
  },
  {
   "cell_type": "code",
   "execution_count": 139,
   "id": "ed711a52",
   "metadata": {},
   "outputs": [],
   "source": [
    "Prediction_abc=pd.concat([hr_test.employee_id,pd.DataFrame(abc_pred, columns= [\"is_promoted\"])],axis=1)"
   ]
  },
  {
   "cell_type": "code",
   "execution_count": 140,
   "id": "e91d4f03",
   "metadata": {},
   "outputs": [
    {
     "data": {
      "text/html": [
       "<div>\n",
       "<style scoped>\n",
       "    .dataframe tbody tr th:only-of-type {\n",
       "        vertical-align: middle;\n",
       "    }\n",
       "\n",
       "    .dataframe tbody tr th {\n",
       "        vertical-align: top;\n",
       "    }\n",
       "\n",
       "    .dataframe thead th {\n",
       "        text-align: right;\n",
       "    }\n",
       "</style>\n",
       "<table border=\"1\" class=\"dataframe\">\n",
       "  <thead>\n",
       "    <tr style=\"text-align: right;\">\n",
       "      <th></th>\n",
       "      <th>employee_id</th>\n",
       "      <th>is_promoted</th>\n",
       "    </tr>\n",
       "  </thead>\n",
       "  <tbody>\n",
       "    <tr>\n",
       "      <th>0</th>\n",
       "      <td>8724</td>\n",
       "      <td>0.0</td>\n",
       "    </tr>\n",
       "    <tr>\n",
       "      <th>1</th>\n",
       "      <td>74430</td>\n",
       "      <td>0.0</td>\n",
       "    </tr>\n",
       "    <tr>\n",
       "      <th>2</th>\n",
       "      <td>72255</td>\n",
       "      <td>0.0</td>\n",
       "    </tr>\n",
       "    <tr>\n",
       "      <th>3</th>\n",
       "      <td>38562</td>\n",
       "      <td>0.0</td>\n",
       "    </tr>\n",
       "    <tr>\n",
       "      <th>4</th>\n",
       "      <td>64486</td>\n",
       "      <td>0.0</td>\n",
       "    </tr>\n",
       "  </tbody>\n",
       "</table>\n",
       "</div>"
      ],
      "text/plain": [
       "   employee_id  is_promoted\n",
       "0         8724          0.0\n",
       "1        74430          0.0\n",
       "2        72255          0.0\n",
       "3        38562          0.0\n",
       "4        64486          0.0"
      ]
     },
     "execution_count": 140,
     "metadata": {},
     "output_type": "execute_result"
    }
   ],
   "source": [
    "Prediction_abc.head()"
   ]
  },
  {
   "cell_type": "code",
   "execution_count": 141,
   "id": "3bbfd094",
   "metadata": {},
   "outputs": [],
   "source": [
    "Prediction_abc.is_promoted=Prediction_abc.is_promoted.apply(int)"
   ]
  },
  {
   "cell_type": "code",
   "execution_count": 142,
   "id": "6a66ec00",
   "metadata": {},
   "outputs": [
    {
     "data": {
      "text/plain": [
       "0    23006\n",
       "1      484\n",
       "Name: is_promoted, dtype: int64"
      ]
     },
     "execution_count": 142,
     "metadata": {},
     "output_type": "execute_result"
    }
   ],
   "source": [
    "Prediction_abc[\"is_promoted\"].value_counts()"
   ]
  },
  {
   "cell_type": "code",
   "execution_count": 143,
   "id": "895a69e9",
   "metadata": {},
   "outputs": [],
   "source": [
    "#Prediction_abc.to_csv(\"Prediction_AdaBooster.csv\",index=False)"
   ]
  },
  {
   "cell_type": "markdown",
   "id": "88a9ac2a",
   "metadata": {},
   "source": [
    "## ----------------------------------------------------------------------------------------------------------------------"
   ]
  },
  {
   "cell_type": "markdown",
   "id": "65cb4fbd",
   "metadata": {},
   "source": [
    "# **Gradient Boosting Classifier"
   ]
  },
  {
   "cell_type": "code",
   "execution_count": 144,
   "id": "f419f1cb",
   "metadata": {},
   "outputs": [
    {
     "data": {
      "text/plain": [
       "GradientBoostingClassifier(learning_rate=0.01, random_state=1)"
      ]
     },
     "execution_count": 144,
     "metadata": {},
     "output_type": "execute_result"
    }
   ],
   "source": [
    "from sklearn.ensemble import GradientBoostingClassifier\n",
    "gbc=GradientBoostingClassifier(learning_rate=0.01, random_state=1)\n",
    "gbc.fit(train_x,train_y)"
   ]
  },
  {
   "cell_type": "code",
   "execution_count": 145,
   "id": "4f2c3880",
   "metadata": {},
   "outputs": [],
   "source": [
    "gbc_pred=gbc.predict(test_c1)"
   ]
  },
  {
   "cell_type": "code",
   "execution_count": 146,
   "id": "677d77f4",
   "metadata": {},
   "outputs": [
    {
     "data": {
      "text/plain": [
       "array([0., 0., 0., ..., 0., 0., 0.])"
      ]
     },
     "execution_count": 146,
     "metadata": {},
     "output_type": "execute_result"
    }
   ],
   "source": [
    "gbc_pred"
   ]
  },
  {
   "cell_type": "code",
   "execution_count": 147,
   "id": "9ecfcf86",
   "metadata": {},
   "outputs": [],
   "source": [
    "Prediction_gbc=pd.concat([hr_test.employee_id,pd.DataFrame(gbc_pred, columns= [\"is_promoted\"])],axis=1)"
   ]
  },
  {
   "cell_type": "code",
   "execution_count": 148,
   "id": "7b7fac24",
   "metadata": {},
   "outputs": [],
   "source": [
    "Prediction_gbc.is_promoted=Prediction_gbc.is_promoted.apply(int)"
   ]
  },
  {
   "cell_type": "code",
   "execution_count": 149,
   "id": "86172565",
   "metadata": {},
   "outputs": [
    {
     "data": {
      "text/plain": [
       "0    23287\n",
       "1      203\n",
       "Name: is_promoted, dtype: int64"
      ]
     },
     "execution_count": 149,
     "metadata": {},
     "output_type": "execute_result"
    }
   ],
   "source": [
    "Prediction_gbc[\"is_promoted\"].value_counts()"
   ]
  },
  {
   "cell_type": "code",
   "execution_count": 150,
   "id": "ad6b50cc",
   "metadata": {},
   "outputs": [],
   "source": [
    "#Prediction_gbc.to_csv(\"Prediction_GradientBooster.csv\",index=False)"
   ]
  },
  {
   "cell_type": "markdown",
   "id": "e0a692a2",
   "metadata": {},
   "source": [
    "## ----------------------------------------------------------------------------------------------------------------------"
   ]
  },
  {
   "cell_type": "markdown",
   "id": "4f45a2dc",
   "metadata": {},
   "source": [
    "# ***XGBOOST Algorithm"
   ]
  },
  {
   "cell_type": "code",
   "execution_count": 151,
   "id": "59ec4b11",
   "metadata": {},
   "outputs": [],
   "source": [
    "import xgboost as xgb"
   ]
  },
  {
   "cell_type": "code",
   "execution_count": 152,
   "id": "107db250",
   "metadata": {},
   "outputs": [
    {
     "name": "stdout",
     "output_type": "stream",
     "text": [
      "[19:47:47] WARNING: ..\\src\\learner.cc:1115: Starting in XGBoost 1.3.0, the default evaluation metric used with the objective 'binary:logistic' was changed from 'error' to 'logloss'. Explicitly set eval_metric if you'd like to restore the old behavior.\n"
     ]
    },
    {
     "data": {
      "text/plain": [
       "XGBClassifier(base_score=0.5, booster='gbtree', colsample_bylevel=1,\n",
       "              colsample_bynode=1, colsample_bytree=1, enable_categorical=False,\n",
       "              gamma=0, gpu_id=-1, importance_type=None,\n",
       "              interaction_constraints='', learning_rate=0.01, max_delta_step=0,\n",
       "              max_depth=6, min_child_weight=1, missing=nan,\n",
       "              monotone_constraints='()', n_estimators=100, n_jobs=4,\n",
       "              num_parallel_tree=1, predictor='auto', random_state=1,\n",
       "              reg_alpha=0, reg_lambda=1, scale_pos_weight=1, subsample=1,\n",
       "              tree_method='exact', validate_parameters=1, verbosity=None)"
      ]
     },
     "execution_count": 152,
     "metadata": {},
     "output_type": "execute_result"
    }
   ],
   "source": [
    "xb=xgb.XGBClassifier(random_state=1,learning_rate=0.01)\n",
    "xb.fit(train_x,train_y)"
   ]
  },
  {
   "cell_type": "code",
   "execution_count": 153,
   "id": "7cdd1b9f",
   "metadata": {},
   "outputs": [],
   "source": [
    "xb_pred=xb.predict(test_c1)"
   ]
  },
  {
   "cell_type": "code",
   "execution_count": 154,
   "id": "2e25d5b8",
   "metadata": {},
   "outputs": [
    {
     "data": {
      "text/plain": [
       "array([0., 0., 0., ..., 0., 0., 0.])"
      ]
     },
     "execution_count": 154,
     "metadata": {},
     "output_type": "execute_result"
    }
   ],
   "source": [
    "xb_pred"
   ]
  },
  {
   "cell_type": "code",
   "execution_count": 155,
   "id": "547f5e40",
   "metadata": {},
   "outputs": [],
   "source": [
    "Prediction_xb=pd.concat([hr_test.employee_id,pd.DataFrame(xb_pred, columns= [\"is_promoted\"])],axis=1)"
   ]
  },
  {
   "cell_type": "code",
   "execution_count": 156,
   "id": "0317cc43",
   "metadata": {},
   "outputs": [],
   "source": [
    "Prediction_xb.is_promoted=Prediction_xb.is_promoted.apply(int)"
   ]
  },
  {
   "cell_type": "code",
   "execution_count": 157,
   "id": "61c70264",
   "metadata": {},
   "outputs": [
    {
     "data": {
      "text/plain": [
       "0    23056\n",
       "1      434\n",
       "Name: is_promoted, dtype: int64"
      ]
     },
     "execution_count": 157,
     "metadata": {},
     "output_type": "execute_result"
    }
   ],
   "source": [
    "Prediction_xb[\"is_promoted\"].value_counts()"
   ]
  },
  {
   "cell_type": "code",
   "execution_count": 158,
   "id": "98757a32",
   "metadata": {},
   "outputs": [],
   "source": [
    "Prediction_xb.to_csv(\"Prediction_XGB.csv\",index=False)"
   ]
  },
  {
   "cell_type": "markdown",
   "id": "92bf6e8c",
   "metadata": {},
   "source": [
    "## ----------------------------------------------------------------------------------------------------------------------"
   ]
  },
  {
   "cell_type": "markdown",
   "id": "b48d327a",
   "metadata": {},
   "source": [
    "# **XGB + Grid Search CV"
   ]
  },
  {
   "cell_type": "code",
   "execution_count": 159,
   "id": "b063cfb0",
   "metadata": {},
   "outputs": [],
   "source": [
    "#import xgboost as xgb"
   ]
  },
  {
   "cell_type": "code",
   "execution_count": 161,
   "id": "22cb8296",
   "metadata": {},
   "outputs": [],
   "source": [
    "parameters={\"learning_rate\":[0.01,0.1,0.2,0.3],\n",
    "           \"n_estimators\":[10,20,30,40,50,75,100,150,200],\n",
    "           \"n_jobs\":[2,6,8,10],\n",
    "           \"max_depth\":[4,6,8,10]\n",
    "           }"
   ]
  },
  {
   "cell_type": "code",
   "execution_count": 163,
   "id": "b813fd0f",
   "metadata": {},
   "outputs": [],
   "source": [
    "model=xgb.XGBClassifier(random_state=0)"
   ]
  },
  {
   "cell_type": "code",
   "execution_count": null,
   "id": "33dea6e9",
   "metadata": {},
   "outputs": [],
   "source": [
    "from sklearn.model_selection import GridSearchCV\n",
    "gscv_xgb=GridSearchCV(estimator=model,\n",
    "                     param_grid=parameters,\n",
    "                     cv=10,\n",
    "                     n_jobs=-1)\n",
    "\n",
    "gscv_xgb.fit(train_x,train_y)"
   ]
  },
  {
   "cell_type": "code",
   "execution_count": null,
   "id": "e7167d58",
   "metadata": {},
   "outputs": [],
   "source": [
    "gscv_pred=gscy_xgb.predict(test_c1)"
   ]
  },
  {
   "cell_type": "code",
   "execution_count": null,
   "id": "4e605003",
   "metadata": {},
   "outputs": [],
   "source": [
    "gscv_pred"
   ]
  }
 ],
 "metadata": {
  "kernelspec": {
   "display_name": "Python 3 (ipykernel)",
   "language": "python",
   "name": "python3"
  },
  "language_info": {
   "codemirror_mode": {
    "name": "ipython",
    "version": 3
   },
   "file_extension": ".py",
   "mimetype": "text/x-python",
   "name": "python",
   "nbconvert_exporter": "python",
   "pygments_lexer": "ipython3",
   "version": "3.9.7"
  }
 },
 "nbformat": 4,
 "nbformat_minor": 5
}
